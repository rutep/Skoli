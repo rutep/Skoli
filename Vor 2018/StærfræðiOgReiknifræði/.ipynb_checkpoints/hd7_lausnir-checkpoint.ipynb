{
 "cells": [
  {
   "cell_type": "markdown",
   "metadata": {},
   "source": [
    "# REI201G Heimaverkefni 7 - lausnir\n",
    "\n",
    "Sjöundi heimadæmaskammtur er úr kafla 12 og grein 13.1 í kennslubók og á að skila dæmunum föstudaginn **6. apríl**. Lausnum á að skila á Gradescope í formi Jupyter vinnubókar á PDF sniði (Velja File/Download as HTML, opna skrá í vafra og prenta í PDF skrá). Númer á dæmum hér að neðan vísa í kennslubók.\n",
    "\n",
    "Það verður einn dæmatími á þriðjudaginn fyrir páska og tveir dæmatímar á miðvikudaginn eftir páska.\n",
    "\n",
    "Eftirfarandi reglur gilda um heimadæmaskil:\n",
    "\n",
    "Þeir nemendur sem vinna að lausn heimadæma með öðrum þurfa alltaf að skrifa upp og skila inn sinni eigin lausn. Þeir þurfa ennfremur að tilgreina með hverjum var unnið að lausn verkefnisins. ** Það er óheimilt að fá lausnir hjá öðrum, afrita lausnir eða láta aðra fá lausnina sína. Ef kennari verður var við afritaðar lausnir mun hann lækka einkunn fyrir viðkomandi verkefni. ** Hikið ekki við að leita til kennara ef þið eruð í vafa um hvað telst eðlileg samvinna og hvað ekki."
   ]
  },
  {
   "cell_type": "markdown",
   "metadata": {},
   "source": [
    "## Heimadæmi"
   ]
  },
  {
   "cell_type": "markdown",
   "metadata": {},
   "source": [
    "1\\. Lát $F$ og $G$ vera $n \\times k$ fylki og gerið ráð fyrir að $F^T G=0$. Fyrir sérhverja fullyrðingu hér að neðan eigið þið að ákvarða hvort hún sé alltaf sönn eða geti verið ósönn. Það að fullyrðing sé \"alltaf sönn\" merkir að hún gildi fyrir öll $n \\times k$ fylki $F$ og $G$ sem uppfylla $F^T G=0$, án frekari forsenda. Fullyrðing \"getur verið ósönn\" ef til eru $n \\times k$ fylki $F$ og $G$ sem uppfylla $F^T G=0$ en fullyrðingin er ósönn. Skýrið svör ykkar stuttlega.\n",
    "\n",
    "|Liður|Fullyrðing|    |     |\n",
    "|-----|:--------:|----|-----|\n",
    "|a)   |Annaðhvort $G$ eða $F$ er 0.|Satt|Ósatt|\n",
    "|b)   |Dálkar $F$ eru þverstaðlaðir.|Satt|Ósatt|\n",
    "|c)   |Sérhver dálkur $F$ er hornréttur á sérhvern dálk $G$.|Satt|Ósatt|\n",
    "|d)   |Fylkin $F$ og $G$ eru há eða eru ferningsfylki, þ.e. $n \\geq k$.|Satt|Ósatt|\n",
    "|e)   |Dálkar $F$ eru línulega háðir.|Satt|Ósatt|\n",
    "\n",
    "*Lausn*: Til að sýna að fullyrðing sé ósönn nægir að gefa eitt mótdæmi.\n",
    "\n",
    "a) Ósatt. Dæmi: Með $F=\\begin{bmatrix}{0\\\\1}\\end{bmatrix}$ og $G=\\begin{bmatrix}{1\\\\0}\\end{bmatrix}$ fæst að $F^T G=0$.\n",
    "\n",
    "b) Ósatt. Dæmi: $F=0$ og $G=1$. Þá er $F^T G=0$ en dálkur $F$ er ekki þverstaðlaður.\n",
    "\n",
    "c) Satt. $(F^T G)_{ij} = f_i^T g_j$ þar sem $f_i$ eru dálkar $F$ og $g_j$ eru dálkar $G$, $i,j=1,\\ldots,k$ (sjá innfeldistúlkun á fylkjamargfeldi bls. 181).\n",
    "\n",
    "d) Ósatt. Lát $F=\\begin{bmatrix}{1~2}\\end{bmatrix}$ og $G=\\begin{bmatrix}{0~0}\\end{bmatrix}$. Þá er $F^T G = \\begin{bmatrix}{0~0\\\\0~0}\\end{bmatrix}$.\n",
    "\n",
    "e) Ósatt. T.d. með $F=I$ (einingafylki) og $G=0$.\n",
    "\n",
    "2\\. [Aðhvarfsgreining með einni inntaksbreytu, dæmi 13.3 í bók] Taflan hér að neðan sýnir fjölda smára (e. transistor) $N$ í 13 örgjörvum auk ártals þegar þeir komu á markað.\n",
    "\n",
    "| Ár |  Fjöldi  |   \n",
    "|:--:|:--------:|\n",
    "|1971|      2250|\n",
    "|1972|      2500|\n",
    "|1974|      5000|\n",
    "|1978|     29000|\n",
    "|1982|    120000|\n",
    "|1985|    275000|\n",
    "|1989|   1180000|\n",
    "|1993|   3100000|\n",
    "|1997|   7500000|\n",
    "|1999|  24000000|\n",
    "|2000|  42000000|\n",
    "|2002| 220000000|\n",
    "|2003| 410000000|\n",
    "\n",
    "Hér eigið þið að nota aðferð minnstu kvaðrata til að finna bestu línu gegnum punktana þegar líkanið er\n",
    "$$\n",
    "\\log_{10} N = \\theta_1 + \\theta_2 (t - 1970)\n",
    "$$\n",
    "þar sem $t$ er ártal og $N$ er fjöldi smára. Athugið að $\\theta_1$ er spá fyrir lógarithmanum af fjölda smára árið 1970 og $10^{\\theta_2}$ er spá líkans um hlutfallslega aukningu í fjölda smára milli ára.\n",
    "\n",
    "a) Finnið stuðla $\\theta_1$ og $\\theta_2$ sem lágmarka RMS spáskekkju og tilgreinið RMS skekkjuna (þið byrjið á að taka logarithma af fjölda smára). Útbúið mynd sem sýnir gögnin ásamt línunni. Notið `matplotlib.pyplot.scatter` til að teikna gögnin, `matplotlib.pyplot.plot` til að teikna línuna (sjá vika7.ipynb á Piazza) og merkið ása á grafinu með `pyplt.xlabel` og `pyplt.ylabel`. Þið reiknið $\\log_{10}$ með `numpy.log10` og hefjið í veldi með `numpy.power`.\n",
    "\n",
    "b) Notið líkanið til að spá fyrir um fjölda smára í örgjörva sem kom á markað árið 2015. Berið spána saman við IBM Z13 örgjörvan sem kom á markað 2015 og hefur u.þ.b. $4\\times 10^9$ smára.\n",
    "\n",
    "c) Berið niðurstöðu ykkar við lögmál Moore sem segir að fjöldi smára í rafrásum (e. integrated circuit) tvöfaldist á eins og hálfs til tveggja ára fresti.\n",
    "\n",
    "Lögmálið var sett fram af Gordon Moore, öðrum stofnanda Intel, í tímaritsgrein árið 1965."
   ]
  },
  {
   "cell_type": "code",
   "execution_count": 6,
   "metadata": {},
   "outputs": [
    {
     "name": "stdout",
     "output_type": "stream",
     "text": [
      "theta: [3.12559263 0.15401818]\n"
     ]
    },
    {
     "data": {
      "image/png": "[encoded data removed]",
      "text/plain": [
       "<matplotlib.figure.Figure at 0x2a39830d208>"
      ]
     },
     "metadata": {},
     "output_type": "display_data"
    },
    {
     "name": "stdout",
     "output_type": "stream",
     "text": [
      "RMS skekkja:     0.2031\n",
      "Spá fyrir 2015:    11.3870 milljaða smára\n",
      "Hlutfallsleg aukning milli ára:  1.4256672716937806\n"
     ]
    }
   ],
   "source": [
    "# Lausn\n",
    "import numpy as np\n",
    "import matplotlib.pyplot as plt\n",
    "\n",
    "#a)\n",
    "data=np.array([[1971,2250]\n",
    ",[1972,2500]\n",
    ",[1974,5000]\n",
    ",[1978,29000]\n",
    ",[1982,120000]\n",
    ",[1985,275000]\n",
    ",[1989,1180000]\n",
    ",[1993,3100000]\n",
    ",[1997,7500000]\n",
    ",[1999,24000000]\n",
    ",[2000,42000000]\n",
    ",[2002,220000000]\n",
    ",[2003,410000000]])\n",
    "\n",
    "t=data[:,0]-1970\n",
    "y=np.log10(data[:,1])\n",
    "m=len(y)\n",
    "\n",
    "A=np.c_[np.ones(m), t]\n",
    "theta,fervik,rank,_=np.linalg.lstsq(A,y,rcond=False)\n",
    "print(\"theta:\" ,theta)\n",
    "\n",
    "tp = np.linspace(min(t),max(t),100)\n",
    "tpred = theta[0] + theta[1]*tp\n",
    "plt.plot(t+1970,y,'b.',tp+1970,tpred,'r-') # plottum gögn vs margliðu\n",
    "plt.xlabel('Ár')\n",
    "plt.ylabel('log(Fjöldi smára)')\n",
    "plt.show()\n",
    "\n",
    "print(\"RMS skekkja: {:10.4f}\".format(np.linalg.norm(y - np.dot(A,theta))/np.sqrt(m)))\n",
    "\n",
    "# b)\n",
    "N_pred_2015=np.power(10,theta[0] + theta[1]*(2015-1970))\n",
    "print(\"Spá fyrir 2015: {:10.4f} milljaða smára\".format(N_pred_2015/1.0E9))\n",
    "\n",
    "# c)\n",
    "print(\"Hlutfallsleg aukning milli ára: \", np.power(10,theta[1]))"
   ]
  },
  {
   "cell_type": "markdown",
   "metadata": {},
   "source": [
    "Spáin fyrir 2015 er 11.4 milljarðar smára sem er heldur hærra fjöldi smára í IBM Z13 sem hefur 4 milljarða.\n",
    "\n",
    "Af Wikipediu má sjá að eftir 2010 hefur hægt á þróuninni, https://en.wikipedia.org/wiki/Moore%27s_law\n",
    "\n",
    "c) Við sjáum að á tveimur árum er aukningin $1.4256 \\cdot 1.4256=2.03$, þ.e. fjöldi smára tvöfaldast á tveggja ára fresti."
   ]
  },
  {
   "cell_type": "markdown",
   "metadata": {},
   "source": [
    "3\\. [Aðhvarfsgreining með mörgum inntaksbreytum] Í Stanford Háskóla í Kaliforníu er boðið upp á námskeið sem heitir Matrix Methods og fjallar það um sama efni og REI201G. Stephen Boyd sem kennir námskeiðið er einmitt annar höfundar bókarinnar sem við notum. \n",
    "\n",
    "Í þessu dæmi er unnið með einkunnir af miðmisserisprófi í \"Matrix Methods\" árið 2017 þar sem 186 nemendur mættu í próf. Á prófinu voru 10 dæmi sem öll giltu 12 stig. Hér á að skoða hvort hægt sé að spara tíma við yfirferð á prófum með því að fara bara yfir hluta af dæmunum. (Þetta fyrirkomulag verður *ekki* tekið upp í REI201G!)\n",
    "\n",
    "Dæmatímakennarar fóru vandlega yfir öll dæmi á prófinu en ímyndum okkur að þeir hafi bara farið yfir fyrri helming prófsins, þ.e. dæmi 1 - 5 og notað aðhvarfsgreiningu til að spá fyrir um lokaeinkunn á hverju prófi. Fylki með einkunnum úr prófinu er að finna í skránni `midterm2017.csv` sem þið sækið með\n",
    "\n",
    "```python\n",
    "scores=np.loadtxt('midterm2017.csv',delimiter=',')\n",
    "```\n",
    "\n",
    "Raðir svara til nemenda og dálkar til prófdæma.\n",
    "\n",
    "a) Finnið meðaltal og staðalfrávik lokaeinkunnar á prófinu (tvær tölur). Finnið meðaltal og staðalfrávik einkunna fyrir einstök dæmi á prófinu (10+10=20 tölur).\n",
    "\n",
    "b) Hér er einföld leið til að spá fyrir um heildareinkunn á einstökum prófum: Leggið saman einkunn fyrir fyrstu 5 dæmin og tvöfaldið útkomuna. Hvaða RMS skekkja gefur þessi einfalda aðferð?\n",
    "\n",
    "c) Útbúið aðhvarfslíkan sem spáir fyrir um lokaeinkunn á einstökum prófum sem notar einkunnir fyrir dæmi 1 - 5 sem inntaksbreytur. Tilgreinið stuðla líkansins og túlkið stuttlega. Hvaða RMS skekkju gefur líkanið þitt?"
   ]
  },
  {
   "cell_type": "code",
   "execution_count": 7,
   "metadata": {},
   "outputs": [
    {
     "name": "stdout",
     "output_type": "stream",
     "text": [
      "Meðaltal á prófi:  7.370967741935484\n",
      "Staðalfrávik á prófi:  1.5915423926898182\n",
      "Meðaltal einstakra spurninga [ 7.92  8.95 11.15 10.32 10.72  7.24  8.99  5.49  7.93  9.74]\n",
      "Staðalfrávik einstakra spurninga [4.54 2.35 2.39 3.18 2.96 4.63 5.19 5.5  4.63 2.73]\n",
      "\n",
      "RMS fyrir spá í b) lið:  1.251910129570373\n",
      "theta= [0.14 0.2  0.11 0.16 0.15]\n",
      "RMS fyrir spá í c) lið:  0.93122752957385\n"
     ]
    }
   ],
   "source": [
    "# Lausn á dæmi 3 (Ex 13.1)\n",
    "import numpy as np\n",
    "\n",
    "def rms(x):\n",
    "    return np.linalg.norm(x)/np.sqrt(len(x))\n",
    "\n",
    "np.set_printoptions(precision=2)\n",
    "\n",
    "scores=np.loadtxt('midterm2017.csv',delimiter=',')\n",
    "\n",
    "# a) \n",
    "eink=np.average(scores, axis=1)/12*10\n",
    "print(\"Meðaltal á prófi: \", np.average(eink))\n",
    "print(\"Staðalfrávik á prófi: \", np.std(eink))\n",
    "\n",
    "print(\"Meðaltal einstakra spurninga\", np.average(scores, axis=0))\n",
    "print(\"Staðalfrávik einstakra spurninga\", np.std(scores, axis=0))\n",
    "\n",
    "# b) Spá sem byggir á fyrstu fimm gildunum\n",
    "ypred1 = (2*np.sum(scores[:,0:5], axis=1))/120*10\n",
    "print()\n",
    "print(\"RMS fyrir spá í b) lið: \", rms(eink-ypred1))\n",
    "\n",
    "# c) Aðhvarfsgreining\n",
    "A=np.c_[scores[:,0:5]]\n",
    "y=eink\n",
    "\n",
    "theta,resid,rank,_= np.linalg.lstsq(A,y,rcond=None)\n",
    "print(\"theta=\",theta)\n",
    "\n",
    "ypred2=np.dot(A,theta)\n",
    "print(\"RMS fyrir spá í c) lið: \", rms(eink-ypred2))"
   ]
  },
  {
   "cell_type": "markdown",
   "metadata": {},
   "source": [
    "## Tímaverkefni"
   ]
  },
  {
   "cell_type": "markdown",
   "metadata": {
    "collapsed": true
   },
   "source": [
    "1\\. [Aðhvarfsgreining með einni inntaksbreytu] Þetta er upphitun fyrir dæmi 2 á heimaverkefni. Lesið leiðbeiningar fyrir dæmi 2 og svarið svo eftirfarandi spurningu. Lát\n",
    "$$\n",
    "\\theta=\\begin{bmatrix} \n",
    "\\theta_1 \\\\\n",
    "\\theta_2\n",
    "\\end{bmatrix}.\n",
    "$$\n",
    "Skrifið jöfnuna upp á forminu $y=A\\theta$ þar sem $y=\\log_{10}(N)$, þ.e. skrifið upp $A$ fylkið.\n",
    "\n",
    "** Lausn**:\n",
    "$$\n",
    "A=\\begin{bmatrix} \n",
    "1 & 1 \\\\\n",
    "1 & 2 \\\\\n",
    "\\vdots & \\vdots\\\\\n",
    "1 & 13 \\\\\n",
    "\\end{bmatrix}\n",
    "$$"
   ]
  },
  {
   "cell_type": "markdown",
   "metadata": {},
   "source": [
    "2\\. [Aðhvarfsgreining með mörgum inntaksbreytum] Er hægt að spá fyrir um greindarvísitölu út frá líkamsstærð og stærð á heila? Gögnin í skránni `brain_size.csv` eru fengin úr rannsókn á sambandi greindarvísitölu við líkams- og heilastærð í 38 einstaklingum:\n",
    "\n",
    "$y$ (úttaksbreyta): Greindarvísitala.\n",
    "\n",
    "$x_2$ (inntaksbreyta): Líkamsþyngd (eining: pund).\n",
    "\n",
    "$x_3$ (inntaksbreyta): Hæð (eining: tommur).\n",
    "\n",
    "$x_4$ (inntaksbreyta): Rúmmál heila (eining: fjöldi/10000) mælt með segulómumun (MRI).\n",
    "\n",
    "Athugum líkan á forminu $\\hat{f}(x)=\\theta_1 + \\theta_2 x_2 + \\theta_3 x_3 + \\theta_4 x_4$.\n",
    "\n",
    "Grunnföllin eru þá $f_1(x)=1,~f_2(x)=f_3(x)=f_4(x)=x$ og fylkið $A$ verður\n",
    "\n",
    "$$\n",
    "A=\\begin{bmatrix}\n",
    "1 & 124 & 118 & 64.5 & 81.6932 \\\\\n",
    "1 & 150 & 143 & 73.3 & 103.8437 \\\\\n",
    "1 & \\vdots & \\vdots & \\vdots & \\vdots \\\\\n",
    "1 & 89 & 179 & 75.5 & 93.5863\\\\\n",
    "\\end{bmatrix}\n",
    "$$\n",
    "\n",
    "Ákvarðið stikana með því að lágmörka $||A\\theta - y||^2$ og skýrið niðurstöður stuttlega."
   ]
  },
  {
   "cell_type": "code",
   "execution_count": 10,
   "metadata": {},
   "outputs": [
    {
     "name": "stdout",
     "output_type": "stream",
     "text": [
      "Stærð A:  (38, 4)\n",
      "θ1 (skurðpunktur) 111.3782\n",
      "θ2 (þyngd) 0.0007\n",
      "θ3 (hæð) -2.7324\n",
      "θ4 (stærð heila) 2.0602\n"
     ]
    }
   ],
   "source": [
    "# Lausn:\n",
    "\n",
    "import numpy as np\n",
    "\n",
    "# Gögn lesin úr textaskrá\n",
    "data=np.genfromtxt('brain_size.csv', skip_header=True, delimiter=',')\n",
    "m = data.shape[0]\n",
    "y=data[:,0] # Úttaksbreytan er í fyrsta dálki\n",
    "A=np.c_[np.ones(m), data[:,1:4]] # einn-vigur í fyrssta dálk og síðan inntaksbreytur\n",
    "print(\"Stærð A: \", A.shape)\n",
    "\n",
    "# Leysa minnstu kvaðrata verkefni og skrifa út gildi á stikum\n",
    "theta, fervik, rank, _ = np.linalg.lstsq(A,y, rcond=None)\n",
    "\n",
    "inntaksbr=['skurðpunktur','þyngd','hæð','stærð heila']\n",
    "for i, breyta in enumerate(inntaksbr):\n",
    "    print(\"θ{0:d} ({1}) {2:.4f}\".format(i+1, breyta, theta[i]))"
   ]
  },
  {
   "cell_type": "markdown",
   "metadata": {},
   "source": [
    "Samkvæmt þessu líkani er lítið samband milli þyngdar og greindarvísitölu, neikvætt samband milli hæðar og greindarvísitölu en jákvætt samband milli stærðar heila og greindarvísitölu.\n",
    "\n",
    "*Athugasemd*: Það ætti ekki að draga of sterkar ályktanir af líkaninu hér að ofan. Það eru frekar fáar mælingar sem liggja til grundvallar. Ýmsar rannsóknir hafa t.d. fundið jákvæða fylgni milli hæðar og greindarvísitölu sbr.  https://www.sciencedirect.com/science/article/pii/S1053811911010251 (ekki til prófs!)"
   ]
  },
  {
   "cell_type": "code",
   "execution_count": null,
   "metadata": {
    "collapsed": true
   },
   "outputs": [],
   "source": []
  }
 ],
 "metadata": {
  "kernelspec": {
   "display_name": "Python 2",
   "language": "python",
   "name": "python2"
  },
  "language_info": {
   "codemirror_mode": {
    "name": "ipython",
    "version": 2
   },
   "file_extension": ".py",
   "mimetype": "text/x-python",
   "name": "python",
   "nbconvert_exporter": "python",
   "pygments_lexer": "ipython2",
   "version": "2.7.12"
  }
 },
 "nbformat": 4,
 "nbformat_minor": 2
}
