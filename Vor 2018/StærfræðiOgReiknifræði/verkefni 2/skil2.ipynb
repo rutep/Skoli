{
 "cells": [
  {
   "cell_type": "markdown",
   "metadata": {},
   "source": [
    "## REI201G Heimaverkefni 2\n",
    "\n",
    "**Nafn**: Pétur Daníel Ámundason\n",
    "\n",
    "**Tölvupóstfang (@hi.is): pda3"
   ]
  },
  {
   "cell_type": "markdown",
   "metadata": {},
   "source": [
    "## 1."
   ]
  },
  {
   "cell_type": "code",
   "execution_count": 1,
   "metadata": {},
   "outputs": [
    {
     "name": "stdout",
     "output_type": "stream",
     "text": [
      "a)  3.0\n",
      "b) Hér sést á mynd 1 að fylkið er línulegt og eftir að hafa reiknað út stak n+1 og set aftast í fylkið þá er myndinn \n",
      " en línuleg \n"
     ]
    },
    {
     "data": {
      "image/png": "[encoded data removed]",
      "text/plain": [
       "<matplotlib.figure.Figure at 0x289e586b8d0>"
      ]
     },
     "metadata": {},
     "output_type": "display_data"
    },
    {
     "data": {
      "image/png": "[encoded data removed]",
      "text/plain": [
       "<matplotlib.figure.Figure at 0x289ea493f98>"
      ]
     },
     "metadata": {},
     "output_type": "display_data"
    }
   ],
   "source": [
    "import numpy as np\n",
    "import math\n",
    "import matplotlib.pyplot as plt\n",
    "\n",
    "def f(x):\n",
    "    return np.dot(x[1::2],np.ones(len(x[1::2]))*0.5)\n",
    "\n",
    "x = np.array([1,2,3,4]) \n",
    "print(\"a) \", f(x))\n",
    "\n",
    "def isItlinear(x):\n",
    "    plt.plot(x)\n",
    "    plt.show()\n",
    "    return\n",
    "\n",
    "y = np.array([1,2,3])\n",
    "\n",
    "print(\"b) Hér sést á mynd 1 að fylkið er línulegt og eftir að hafa reiknað út stak n+1 og set aftast í fylkið þá er myndinn \\n en línuleg \")\n",
    "isItlinear(y)\n",
    "isItlinear(np.concatenate([y,np.array([y[len(y)-1] + (y[len(y)-1] - y[len(y)-2])])]))\n",
    "\n"
   ]
  },
  {
   "cell_type": "markdown",
   "metadata": {},
   "source": [
    "## 2."
   ]
  },
  {
   "cell_type": "code",
   "execution_count": 2,
   "metadata": {},
   "outputs": [
    {
     "name": "stdout",
     "output_type": "stream",
     "text": [
      "a)  False  Þannig að gefna fall er ekki línulegt\n",
      "b)  0.5\n"
     ]
    }
   ],
   "source": [
    "a = 1\n",
    "b = 1\n",
    "x = np.array([1,2,3])\n",
    "y = np.array([2,3,4])\n",
    "\n",
    "def f(x):\n",
    "    lausn = 0\n",
    "    x[1] = x[1] * -1 \n",
    "    for i in range(0,len(x)):\n",
    "        for j in range(0,len(x)):\n",
    "            lausn += x[i] * x[j]\n",
    "    return lausn\n",
    "\n",
    "\n",
    "hagri = f(a*x + b*y)\n",
    "vinstri = a*f(x) + b*f(y)\n",
    "print(\"a) \", hagri == vinstri, \" Þannig að gefna fall er ekki línulegt\")\n",
    "\n",
    "print(\"b) \", np.median(np.array([-1.2,1,3,0.5,-2]))) \n"
   ]
  },
  {
   "cell_type": "markdown",
   "metadata": {},
   "source": [
    "3. "
   ]
  },
  {
   "cell_type": "code",
   "execution_count": 3,
   "metadata": {
    "scrolled": true
   },
   "outputs": [
    {
     "name": "stdout",
     "output_type": "stream",
     "text": [
      "a)  4.123105625617661\n",
      "b)  0.816496580927726\n",
      "c)  2.0\n"
     ]
    }
   ],
   "source": [
    "def a(x):\n",
    "    # np.linalg.norm(x) print(math.sqrt(np.dot(x*x,x*x)))\n",
    "    # jafngild segð fyrir ofan nema neðri gefur betri lausn\n",
    "    return math.sqrt(np.dot(x,x))\n",
    "\n",
    "print(\"a) \", a(np.array([1,2]) * np.array([1,2])))\n",
    "\n",
    "def b(x):\n",
    "    lausn = np.dot(x,np.ones(len(x))*1/len(x))\n",
    "    lausn = (np.ones(len(x))*lausn)\n",
    "    lausn = x-lausn\n",
    "    return math.sqrt(np.dot(lausn*lausn, np.ones(len(x))) / len(x))\n",
    "\n",
    "print(\"b) \", b(np.array([1,2,3])))\n",
    "\n",
    "def average(x):\n",
    "    return np.dot(x,np.ones(len(x))*1/len(x))\n",
    "\n",
    "def c(x,y):\n",
    "    # xmerkt = x - avg(x)1\n",
    "    return np.dot(x-average(x),y-average(y))/b(x-average(x))*b(y-average(y))\n",
    "\n",
    "print (\"c) \" ,c(np.array([1,2,3]),np.array([1,2,3])))\n"
   ]
  },
  {
   "cell_type": "markdown",
   "metadata": {},
   "source": [
    "4. "
   ]
  },
  {
   "cell_type": "code",
   "execution_count": 4,
   "metadata": {},
   "outputs": [
    {
     "name": "stdout",
     "output_type": "stream",
     "text": [
      "||a-x1||= það er stiðst á milli a og x1 3.16227766017\n",
      "||a-x2||= 46.5334288442\n",
      "||a-x3||= 6.0827625303\n"
     ]
    }
   ],
   "source": [
    "array = np.array([[4,3,5],[0.4,10,50],[1,4,10]])\n",
    "a = np.array([1,3,4])\n",
    "print(\"||a-x1||= það er stiðst á milli a og x1\", np.linalg.norm(a-array[0]))\n",
    "print(\"||a-x2||=\", np.linalg.norm(a-array[1])) \n",
    "print(\"||a-x3||=\", np.linalg.norm(a-array[2]))"
   ]
  }
 ],
 "metadata": {
  "kernelspec": {
   "display_name": "Python 3",
   "language": "python",
   "name": "python3"
  },
  "language_info": {
   "codemirror_mode": {
    "name": "ipython",
    "version": 3
   },
   "file_extension": ".py",
   "mimetype": "text/x-python",
   "name": "python",
   "nbconvert_exporter": "python",
   "pygments_lexer": "ipython3",
   "version": "3.6.3"
  }
 },
 "nbformat": 4,
 "nbformat_minor": 2
}
