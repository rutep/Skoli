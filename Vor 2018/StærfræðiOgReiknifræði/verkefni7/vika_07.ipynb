{
 "cells": [
  {
   "cell_type": "markdown",
   "metadata": {},
   "source": [
    "# Vika 7\n",
    "\n",
    "Dagsetning: 22. mars"
   ]
  },
  {
   "cell_type": "code",
   "execution_count": 1,
   "metadata": {},
   "outputs": [],
   "source": [
    "import matplotlib.pyplot as plt\n",
    "import numpy as np"
   ]
  },
  {
   "cell_type": "markdown",
   "metadata": {},
   "source": [
    "## Lausnir línulegra jöfnuhneppa\n",
    "\n",
    "Hægt er að fá lausnina beint með því að kalla á `np.linalg.solve`"
   ]
  },
  {
   "cell_type": "code",
   "execution_count": 2,
   "metadata": {},
   "outputs": [
    {
     "name": "stdout",
     "output_type": "stream",
     "text": [
      "A= [[1 2]\n",
      " [4 7]]\n",
      "b= [ 1 -1]\n",
      "x= [-9.  5.]\n"
     ]
    }
   ],
   "source": [
    "# Ax=B\n",
    "A=np.array([[1,2],[4,7]])\n",
    "b=np.array([1,-1])\n",
    "print(\"A=\",A)\n",
    "print(\"b=\",b)\n",
    "\n",
    "x=np.linalg.solve(A,b)\n",
    "print(\"x=\",x)"
   ]
  },
  {
   "cell_type": "markdown",
   "metadata": {},
   "source": [
    "## Andhverfur fylkja\n",
    "\n",
    "Fyrir ferningslaga fylki er andhverfan fundin með `np.linalg.inv`"
   ]
  },
  {
   "cell_type": "code",
   "execution_count": 3,
   "metadata": {},
   "outputs": [
    {
     "name": "stdout",
     "output_type": "stream",
     "text": [
      "Ainv= [[-7.  2.]\n",
      " [ 4. -1.]]\n"
     ]
    },
    {
     "data": {
      "text/plain": [
       "True"
      ]
     },
     "execution_count": 3,
     "metadata": {},
     "output_type": "execute_result"
    }
   ],
   "source": [
    "Ainv=np.linalg.inv(A)\n",
    "print(\"Ainv=\", Ainv)\n",
    "\n",
    "# Kanna hvort AA^(-1) sé nálægt einingafylkinu\n",
    "np.allclose(np.dot(A,Ainv),np.eye(2))"
   ]
  },
  {
   "cell_type": "markdown",
   "metadata": {},
   "source": [
    "## QR þáttun\n",
    "Fæst með `lingalg.qr` fallinu"
   ]
  },
  {
   "cell_type": "code",
   "execution_count": 4,
   "metadata": {},
   "outputs": [
    {
     "name": "stdout",
     "output_type": "stream",
     "text": [
      "A= [[-3 -4]\n",
      " [ 4  6]\n",
      " [ 1  1]]\n",
      "Q= [[-0.58834841 -0.45760432]\n",
      " [ 0.78446454 -0.52297636]\n",
      " [ 0.19611614  0.7190925 ]]\n",
      "R= [[ 5.09901951  7.256297  ]\n",
      " [ 0.         -0.58834841]]\n",
      "QR=  [[-3. -4.]\n",
      " [ 4.  6.]\n",
      " [ 1.  1.]]\n"
     ]
    }
   ],
   "source": [
    "A=np.array([[-3,-4],[4,6],[1,1]]) # Bls. 216\n",
    "print(\"A=\",A)\n",
    "Q,R = np.linalg.qr(A)\n",
    "print(\"Q=\",Q)\n",
    "print(\"R=\",R)\n",
    "\n",
    "print(\"QR= \",np.dot(Q,R))"
   ]
  },
  {
   "cell_type": "markdown",
   "metadata": {},
   "source": [
    "## Gerviandhverfur\n",
    "Fást með `lingalg.pinv` fallinu"
   ]
  },
  {
   "cell_type": "code",
   "execution_count": 5,
   "metadata": {},
   "outputs": [
    {
     "name": "stdout",
     "output_type": "stream",
     "text": [
      "Gerviandhverfa:  [[-1.22222222 -1.11111111  1.77777778]\n",
      " [ 0.77777778  0.88888889 -1.22222222]]\n"
     ]
    },
    {
     "data": {
      "text/plain": [
       "True"
      ]
     },
     "execution_count": 5,
     "metadata": {},
     "output_type": "execute_result"
    }
   ],
   "source": [
    "Apinv=np.linalg.pinv(A)\n",
    "print(\"Gerviandhverfa: \", Apinv)\n",
    "\n",
    "# Gerviandhverfan er vinstri andhverfa A\n",
    "np.allclose(np.dot(Apinv,A),np.eye(2))"
   ]
  },
  {
   "cell_type": "markdown",
   "metadata": {},
   "source": [
    "## Minnstu kvaðrata verkefni - sýnidæmi bls 234 - 235\n",
    "\n",
    "$s$ er $m$-vigur þar sem $s_i$ tilgreinir hversu mikið á að eyða í auglýsingar í miðli $i$.\n",
    "\n",
    "Höfum óskgildi birtinga í $m$-vigri $v_{osk}$.\n",
    "\n",
    "Finna $s$ þ.a. $Rs≈v_{osk}$ m.þ.a. leysa minnstu kvaðrata verkefni min $||Rs - v_{osk}||^2$."
   ]
  },
  {
   "cell_type": "code",
   "execution_count": 6,
   "metadata": {},
   "outputs": [
    {
     "name": "stdout",
     "output_type": "stream",
     "text": [
      "x= [   62.07662454    99.98500403  1442.83746254]\n",
      "x= [   62.07662454    99.98500403  1442.83746254]\n",
      "Fervik: [ 175928.89516314]\n",
      "Fjöldi línulega óháðra dálka: 3\n"
     ]
    }
   ],
   "source": [
    "Rmat=np.array([[0.97,1.86,0.41],\n",
    "[1.23,2.18,0.53],\n",
    "[0.80,1.24,0.62],\n",
    "[1.29,0.98,0.51],\n",
    "[1.10,1.23,0.69],\n",
    "[0.67,0.34,0.54],\n",
    "[0.87,0.26,0.62],\n",
    "[1.10,0.16,0.48],\n",
    "[1.92,0.22,0.71],\n",
    "[1.29,0.12,0.62]])\n",
    "m,n=Rmat.shape\n",
    "\n",
    "# Viljum 1 milljón áhorfa í hverjum markhópi\n",
    "v_osk=1E3*np.ones(m)\n",
    "\n",
    "# Leyst með QR þáttun og endurinnsetningu\n",
    "from scipy.linalg import solve_triangular\n",
    "Q,R = np.linalg.qr(Rmat)\n",
    "x=solve_triangular(R, np.dot(Q.T,v_osk), lower=False)\n",
    "print(\"x=\", x)\n",
    "\n",
    "# Leyst með innbyggða Numpy fallinu lstsq\n",
    "x,res,rank,_ = np.linalg.lstsq(Rmat, v_osk) # Skilar viðbótarupplýsingum\n",
    "print(\"x=\", x)\n",
    "print(\"Fervik:\", res)\n",
    "print(\"Fjöldi línulega óháðra dálka:\", rank)"
   ]
  },
  {
   "cell_type": "markdown",
   "metadata": {},
   "source": [
    "## Besta lína fundin með aðferð minnstu kvaðrata"
   ]
  },
  {
   "cell_type": "code",
   "execution_count": 7,
   "metadata": {},
   "outputs": [
    {
     "name": "stdout",
     "output_type": "stream",
     "text": [
      "theta= [ 2.11557703  1.82436255]\n"
     ]
    },
    {
     "data": {
      "image/png": "[encoded data removed]",
      "text/plain": [
       "<matplotlib.figure.Figure at 0x25978074f60>"
      ]
     },
     "metadata": {},
     "output_type": "display_data"
    }
   ],
   "source": [
    "# Mælingar\n",
    "x=np.array([ 1.09337026,  1.04992997,  0.85610187,  0.52680267,  0.85595807,\n",
    "             0.84917991,  0.19139549,  1.47461725,  0.07214736,  0.21463519])\n",
    "\n",
    "y=np.array([ 4.32739861,  3.74380467,  3.93342614,  2.86318812,  4.04902446,\n",
    "             3.44288531,  2.4608442 ,  4.68238198,  2.18196362,  2.57732559])\n",
    "\n",
    "m=x.shape[0]\n",
    "A=np.c_[np.ones(m), x] # Líkan: f(x) = θ_1 + θ_2*x\n",
    "theta,res,rank,_ = np.linalg.lstsq(A, y)\n",
    "print(\"theta=\",theta) # Fyrra stakið er skurðpunktur við y-ás, seinna stakið er hallatalan\n",
    "\n",
    "# Teiknum gögnin\n",
    "plt.plot(x,y,'b.')\n",
    "# Teiknunm spágildin in á grafið\n",
    "xp=np.linspace(min(x),max(x),100) # 100 punktar á bilinu sem x liggur á\n",
    "yp=np.dot(np.c_[np.ones(xp.shape[0]), xp], theta) # Reiknum spágildi fyrir punktana í xp\n",
    "plt.plot(xp,yp,'r-')\n",
    "plt.xlabel('x')\n",
    "plt.ylabel('y')\n",
    "plt.show()"
   ]
  },
  {
   "cell_type": "markdown",
   "metadata": {},
   "source": [
    "## Aðhvarfsgreining með margliðum"
   ]
  },
  {
   "cell_type": "code",
   "execution_count": 8,
   "metadata": {},
   "outputs": [
    {
     "name": "stdout",
     "output_type": "stream",
     "text": [
      "theta= [-0.82051432  0.00953905 -0.56462499]\n"
     ]
    },
    {
     "data": {
      "image/png": "[encoded data removed]",
      "text/plain": [
       "<matplotlib.figure.Figure at 0x259785c5cf8>"
      ]
     },
     "metadata": {},
     "output_type": "display_data"
    }
   ],
   "source": [
    "# Gögn\n",
    "x=np.array([-0.39457146,  1.34292895,  0.71535577, -0.21048986, -1.9797859 ,\n",
    "            -0.84050246, -1.85313437, -1.130359  , -2.21892485,  2.77233627,\n",
    "             0.50199268,  2.0829997 ,  2.63386244,  2.90965629, -0.8407752 ,\n",
    "            -2.56675427, -1.70050364, -1.93243139,  1.31981186, -0.51324789])\n",
    "\n",
    "y=np.array([ 1.84557503, -3.29868001,  0.60648443,  1.75781402, -4.51627968,\n",
    "            -0.48625485, -4.9140059 , -2.95638828, -3.82562587, -4.76127227,\n",
    "             1.06134698, -6.42870509, -6.06494195, -3.06202494, -2.2087869 ,\n",
    "             1.31164464, -5.26515206, -6.40478696, -3.04804836,  0.13581658])\n",
    "\n",
    "m=x.shape[0]\n",
    "# Setjum upp A-fylkið og leysum minnstu kvaðrata verkefnið\n",
    "A=np.c_[np.ones(m), x, x**2] # Líkan: f(x) = θ_1 + θ_2*x + θ_3*x^3\n",
    "theta,res,rank,_ = np.linalg.lstsq(A, y)\n",
    "print(\"theta=\",theta) # Fyrra stakið er skurðpunktur við y-ás, seinna stakið er hallatalan\n",
    "\n",
    "# Teiknum gögnin\n",
    "plt.plot(x,y,'b.')\n",
    "# Teiknunm spágildin in á grafið\n",
    "xp=np.linspace(min(x),max(x),100) # 100 punktar á bilinu sem x liggur á\n",
    "yp=np.dot(np.c_[np.ones(xp.shape[0]), xp, xp**2], theta) # Reiknum spágildi fyrir punktana í xp\n",
    "plt.plot(xp,yp,'r-')\n",
    "plt.xlabel('x')\n",
    "plt.ylabel('y')\n",
    "plt.show()"
   ]
  },
  {
   "cell_type": "markdown",
   "metadata": {},
   "source": [
    "## NumPy föll fyrir aðhvarfsgreiningu\n",
    "\n",
    "Vandermonde fylkið er útfært í numpy með `vander` fallinu, setjum `increasing=True` til að fá veldin í vaxandi röð, en numpy vill frekar hafa það í minnkandi röð.\n",
    "\n",
    "Enn einfaldara er svo að nota `polyfit` fallið og `poly1d` klasann."
   ]
  },
  {
   "cell_type": "code",
   "execution_count": 9,
   "metadata": {},
   "outputs": [
    {
     "name": "stdout",
     "output_type": "stream",
     "text": [
      "theta= [-0.82051432  0.00953905 -0.56462499]\n"
     ]
    },
    {
     "data": {
      "image/png": "[encoded data removed]",
      "text/plain": [
       "<matplotlib.figure.Figure at 0x259769f4550>"
      ]
     },
     "metadata": {},
     "output_type": "display_data"
    },
    {
     "name": "stdout",
     "output_type": "stream",
     "text": [
      " \n",
      "-2.526\n"
     ]
    },
    {
     "data": {
      "image/png": "[encoded data removed]",
      "text/plain": [
       "<matplotlib.figure.Figure at 0x259769f4470>"
      ]
     },
     "metadata": {},
     "output_type": "display_data"
    },
    {
     "name": "stdout",
     "output_type": "stream",
     "text": [
      " \n",
      "-0.2463 x - 2.55\n"
     ]
    },
    {
     "data": {
      "image/png": "[encoded data removed]",
      "text/plain": [
       "<matplotlib.figure.Figure at 0x259787d3128>"
      ]
     },
     "metadata": {},
     "output_type": "display_data"
    },
    {
     "name": "stdout",
     "output_type": "stream",
     "text": [
      "         2\n",
      "-0.5646 x + 0.009539 x - 0.8205\n"
     ]
    },
    {
     "data": {
      "image/png": "[encoded data removed]",
      "text/plain": [
       "<matplotlib.figure.Figure at 0x259787a2f28>"
      ]
     },
     "metadata": {},
     "output_type": "display_data"
    },
    {
     "name": "stdout",
     "output_type": "stream",
     "text": [
      "          3         2\n",
      "-0.08657 x - 0.516 x + 0.4566 x - 0.8315\n"
     ]
    },
    {
     "data": {
      "image/png": "[encoded data removed]",
      "text/plain": [
       "<matplotlib.figure.Figure at 0x2597885a4e0>"
      ]
     },
     "metadata": {},
     "output_type": "display_data"
    },
    {
     "name": "stdout",
     "output_type": "stream",
     "text": [
      "        4          3         2\n",
      "0.4842 x - 0.3955 x - 3.898 x + 1.119 x + 1.927\n"
     ]
    }
   ],
   "source": [
    "p=3 # Hæsta gráða margliðu + 1\n",
    "A=np.vander(x,p,increasing=True)\n",
    "theta,res,rank,_ = np.linalg.lstsq(A, y)\n",
    "print(\"theta=\",theta) # Fyrra stakið er skurðpunktur við y-ás, seinna stakið er hallatalan\n",
    "\n",
    "for k in range(5):\n",
    "    pz = np.polyfit(x,y,k) # finnum k-ta stigs margliðu\n",
    "    p = np.poly1d(pz) # Klasi sem einfaldar umstang með margliður\n",
    "    xp = np.linspace(min(x),max(x),100)\n",
    "    plt.plot(x,y,'.',xp,p(xp),'-') # plottum gögn vs margliðu\n",
    "    plt.show()\n",
    "    print(p)"
   ]
  },
  {
   "cell_type": "code",
   "execution_count": null,
   "metadata": {
    "collapsed": true
   },
   "outputs": [],
   "source": []
  }
 ],
 "metadata": {
  "kernelspec": {
   "display_name": "Python 3",
   "language": "python",
   "name": "python3"
  },
  "language_info": {
   "codemirror_mode": {
    "name": "ipython",
    "version": 3
   },
   "file_extension": ".py",
   "mimetype": "text/x-python",
   "name": "python",
   "nbconvert_exporter": "python",
   "pygments_lexer": "ipython3",
   "version": "3.6.3"
  }
 },
 "nbformat": 4,
 "nbformat_minor": 2
}
