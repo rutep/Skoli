{
 "cells": [
  {
   "cell_type": "markdown",
   "metadata": {},
   "source": [
    "# REI201G Heimaverkefni 3\n",
    "\n",
    "Þriðji heimadæmaskammtur er úr köflum 4 og 5 í kennslubók og á að skila dæmunum föstudaginn 2. mars. Lausnum á að skila á Gradescope í formi Jupyter vinnubókar á PDF sniði (Velja File/Download as HTML, opna skrá í vafra og prenta í PDF skrá). \n",
    "\n",
    "Til að skrá sig inn á námskeiðið í Gradescope þarf að slá inn kóða 9KYPRX.\n",
    "* Athugið að merkja allar lausnir vandlega með nafni og hi.is notendanafni.\n",
    "* Merkið við hvar hvert dæmi er að finna á síðunum.\n",
    "* Ef engu er skilað fyrir eitthvað dæmi þarf að merkja það sem autt.\n",
    "\n",
    "Í dæmatíma í næstu viku verður farið yfir nokkur tímadæmi en restin af tímanum verður svo notuð til að vinna í heimadæmum.\n",
    "\n",
    "Eftirfarandi reglur gilda um heimadæmaskil:\n",
    "\n",
    "Þeir nemendur sem vinna að lausn heimadæma með öðrum þurfa alltaf að skrifa upp og skila inn sinni eigin lausn. Þeir þurfa ennfremur að tilgreina með hverjum var unnið að lausn verkefnisins. Það er óheimilt að fá lausnir hjá öðrum, afrita lausnir eða láta aðra fá lausnina sína. Ef kennari verður var við afritaðar lausnir mun hann lækka einkunn fyrir viðkomandi verkefni. Hikið ekki við að leita til kennara ef þið eruð í vafa um hvað telst eðlileg samvinna og hvað ekki.\n",
    "\n",
    "*Athugið*: Til að hljóta próftökurétt þarf að skila 3 heimaverkefnum af fyrstu 5 og hljóta að lágmarki 5.0 í meðaleinkunn fyrir 3 bestu verkefnin."
   ]
  },
  {
   "cell_type": "markdown",
   "metadata": {},
   "source": [
    "# Heimadæmi\n",
    "\n",
    "Dæmi 1 og 2 eru úr kennslubók en dæmi 3 og 4 eru úr dæmahefti sem fylgir bókinni (http://stanford.edu/class/ee103/103exercises.pdf).\n",
    "\n",
    "1\\. Dæmi 5.2 í bók.\n",
    "\n",
    "**Lausn**:\n",
    "\n",
    "Ávöxtun hlutabréfs í fyrirtæki $i$ er hægt að tákna með 250 staka vigri $a_i$ (eitt stak fyrir hvern dag). Það eru 400 fyrirtæki og ávöxtun í þeim öllum er þá hægt að tákna með vigrum $a_1,\\ldots,a_{400}$.\n",
    "\n",
    "Setning í grein 5.2 segir að línulega óháð safn af $n$-vigrum getur mest haft $n$ stök. Með öðrum orðum, sérhvert safn $n+1$ eða fleiri $n$-vigra er línulega háð.\n",
    "\n",
    "Hér er $n=250$ og $k=400$ þ.a. $k \\geq n$ og því eru mest 250 óháðir vigrar í safninu. Það er því hægt að rita ávöxtun a.m.k. 150 fyrirtækja sem línulega samantekt af ávöxtun annarra fyrirtækja og verður að teljast líklegt að Google sé í þeim hópi. Yfirmaðurinn hefur því rétt fyrir sér.\n",
    "\n",
    "\n",
    "2\\. Dæmi 5.8 í bók. Rökstyðjið svör ykkar stuttlega með vísun í eiginleika Gram-Schmidt reikniritsins.\n",
    "\n",
    "**Lausn**:\n",
    "\n",
    "Reikniritið stoppar í ítrun 5 þannig að $a_1,a_2,a_3$ og $a_4$ eru línulega óháðir.\n",
    "\n",
    "a) Satt. Þar sem $a_1,a_2,a_3$ og $a_4$ eru línulega óháðir þá eru $a_2,a_3$ og $a_4$ það líka. Öll hlutmengi af línulega óháðum vigrum eru línulega óháð (sjá bls. 91).\n",
    "\n",
    "b) Getur verið ósatt. T.d. ef $a_5 = a_4$ þá eru $a_1,a_2$ og $a_5$ línulega óháðir.\n",
    "\n",
    "c) Satt. Reikniritið stöðvaði í ítrun 5 sem segir að $a_5$ er línuleg samantekt af $a_1,a_2,a_3$ og $a_4$.\n",
    "\n",
    "d) Satt. Ef $a_4 = 0$ þá væri $\\tilde{q}_4$ línuleg samantekt $q_1,q_2$ og $q_3$ og reikniritið myndi stöðva fyrir $i=4$ (en ekki $i=5$ eins og raunin er).\n",
    "\n",
    "\n",
    "3\\. *Meðmælakerfi sem byggir á $k$-means.* Streymiþjónusta fyrir tónlist hefur $N$ notendur sem hlusta á lög úr safni með $n$ lögum yfir ákveðið tímabil (t.d. einn mánuð). Tónlistarvali notanda $i$ er lýst með $n$-vigri (lagalista) $p_i$ sem er skilgreindur þannig,\n",
    "$$\n",
    "(p_i)_j = \\left\\{ \\begin{array}{ll}1 & \\textrm{notandi}~i~\\textrm{hefur spilað lag}~j\\\\ \n",
    "                                   0 & \\textrm{notandi}~i~\\textrm{hefur ekki spilað lag}~j \\end{array} \\right.\n",
    "$$\n",
    "\n",
    "fyrir $j=1,\\ldots,n$. (Athugið að $p_i$ er $n$-vigur en $(p_i)_j$ er tala.) Gerið ráð fyrir að ef notandi hlustar á tiltekið lag þá finnst honum það skemmtilegt.\n",
    "\n",
    "Verkefni þitt er að hanna reiknirit sem mælir með 10 lögum við sérhvern notanda, lög sem hann hefur ekki hlustað á en gæti fundist skemmtileg. (Það má gera ráð fyrir að það séu a.m.k. 10 lög sem sérhver notandi hefur ekki hlustað á.)\n",
    "\n",
    "Til að gera þetta þá keyrir þú $k$-means reikniritið á lagalistavigrum $p_1,\\ldots,p_N$ (t.d. með $k=100$). Þá fást miðpunktar $z_1,\\ldots z_k$ sem eru $n$-vigrar.\n",
    "\n",
    "Hver eru næstu skref? Útskýrðu með eigin **orðum**, frekar en að setja fram formúlu eða forritskóða, hvernig þú mælir með lögum við sérhvern notanda.\n",
    "\n",
    "**Lausn**:\n",
    "\n",
    "Útbúum lagalista fyrir notanda $i$ á eftirfarandi hátt: \n",
    "\n",
    "i\\) Finnum þann miðpunkt $z_\\ell$ sem er næstur $p_i$. Í þessum hópi eru notendur sem hafa svipaðan tónlistarsmekk og notandi $i$. Setjum $w=z_{\\ell}$ og lát $w_j=0$ ef $(p_i)_j = 1$ (fjarlægjum lög sem notandi $i$ hefur þegar hlustað á).\n",
    "\n",
    "ii\\) Stak $w_j$ er stórt ef mörgum í hópnum finnst lag $j$ skemmtilegt. Röðum stökum í $w$ í vaxandi röð.\n",
    "\n",
    "iii\\) Til að útbúa lista með t.d. 10 lögum veljum við lögin sem svara til 10 stærsta staka í $w$.\n",
    "\n",
    "\n",
    "4\\. *Topic discovery via $k$-means*. In this problem you will use $k$-means to cluster 300 Wikipedia articles selected from 5 broad groups of topics. The Numpy file `wikipedia_corpus.npz` contains three arrays which you access as follows\n",
    "\n",
    "```python\n",
    "data=numpy.load('wikipedia_corpus.npz')\n",
    "dictionary = data[\"dictionary\"]\n",
    "article_titles = data[\"article_titles\"]\n",
    "article_histograms = data[\"article_histograms\"]```\n",
    "\n",
    "The data consists of word histograms, 300 1000-vectors in the variable `article_histograms`. It also provides an array of article titles in `article_titles` and an array of the 1000 words used to create the histograms in `dictionary`.\n",
    "\n",
    "The ﬁle `kmeans.py` provides a Python implementation of the $k$-means algorithm in the function `kmeans`. The `kmeans` function accepts a list of vectors to cluster (in the form of a matrix) along with the number of clusters, $k$, and returns three things: the centroids as an array of vectors (a matrix), an array containing the index of each vector’s closest centroid, and an array of the value of $J$ after each iteration of $k$-means. Each time the function `kmeans` is invoked it initializes the centroids by randomly assigning the data points to $k$ groups and taking the $k$ representatives as the means of the groups. (This means that if you run `kmeans` twice, with the same data, you might get diﬀerent results.)\n",
    "\n",
    "For example, here is an example of running $k$-means with $k = 8$ and ﬁnding the 30th article’s centroid (recall indices start from zero).\n",
    "\n",
    "```python\n",
    "from kmeans import kmeans\n",
    "centroids, labels, j_hist = kmeans(article_histograms, 8)\n",
    "centroids[labels[29]]```\n",
    "\n",
    "The array `labels` contains the index of each vector’s closest centroid (labels start from zero), so if the 30th entry in `labels` is 7, then the 30th vector’s closest centroid is the (7+1)-th entry in `centroids`.\n",
    "\n",
    "There are many ways to explore your results. For example, you could print the titles of all articles in a cluster.\n",
    "\n",
    "```python\n",
    "In [ ]  article_titles[labels == 7]\n",
    "Out[ ] array(['Antenna (radio)', 'Attenuation', 'Broadcasting', ..., dtype=object])```\n",
    "\n",
    "Alternatively, you could ﬁnd a topic’s most common words by ordering `dictionary` by the size of its centroid’s entries. A larger entry for a word implies it was more common in articles from that topic.\n",
    "\n",
    "```python\n",
    "In [ ] dictionary[np.argsort(centroids[7])[-10:]] # the top ten words\n",
    "Out[ ] array(['wireless', 'communication', 'transmission', 'antenna', 'waves',\n",
    "       'optical', 'telegraph', 'signal', 'fiber', 'radio'], dtype=object)```\n",
    "\n",
    "a) For each of $k = 2,~k = 5$, and $k = 10$ run $k$-means twice, and plot $J$ (vertically) versus iteration (horizontally) for the two runs on the same plot. Create your plot by passing a vector containing the value of $J$ at each iteration to the `matplotlib.plot` function (see example in the `vika_01` notebook). Comment brieﬂy on your results. "
   ]
  },
  {
   "cell_type": "code",
   "execution_count": 2,
   "metadata": {},
   "outputs": [
    {
     "data": {
      "image/png": "[encoded data removed]",
      "text/plain": [
       "<matplotlib.figure.Figure at 0x245b0dee2b0>"
      ]
     },
     "metadata": {},
     "output_type": "display_data"
    },
    {
     "data": {
      "image/png": "[encoded data removed]",
      "text/plain": [
       "<matplotlib.figure.Figure at 0x245b1225550>"
      ]
     },
     "metadata": {},
     "output_type": "display_data"
    },
    {
     "data": {
      "image/png": "[encoded data removed]",
      "text/plain": [
       "<matplotlib.figure.Figure at 0x245b126da90>"
      ]
     },
     "metadata": {},
     "output_type": "display_data"
    }
   ],
   "source": [
    "import numpy as np\n",
    "import matplotlib.pyplot as plt\n",
    "from kmeans import kmeans\n",
    "\n",
    "data=np.load('wikipedia_corpus.npz')\n",
    "dictionary=data['dictionary']\n",
    "article_titles=data['article_titles']\n",
    "article_histograms=data['article_histograms']\n",
    "\n",
    "k_values=[2,5,10]\n",
    "rounds=2\n",
    "for index, k in enumerate(k_values):\n",
    "    for rnd in range(rounds):\n",
    "        centroid, labels, j_hist = kmeans(article_histograms, k)\n",
    "        plt.plot(np.arange(j_hist.shape[0])+1, j_hist)\n",
    "        plt.xlabel('Ítrun')\n",
    "        plt.ylabel('J')\n",
    "        plt.title(\"k={}\".format(k))\n",
    "    plt.show()"
   ]
  },
  {
   "cell_type": "markdown",
   "metadata": {},
   "source": [
    "Myndirnar hér að ofan sýna hvernig kvaðratskekkjan $(J)$ lækkar milli ítrana. Þegar $k$-means er keyrt ítrekað þá finnur aðferðin ekki alltaf sama lággildi á kvaðratskekkjunni. Þess vegna er $k$-means oft keyrt nokkrum sinnum og sú lausn sem gefur lægstu skekkjuna valin. Við sjáum líka að $J$ lækkar þegar $k$ hækkar þ.a. gildi á $J$ er ekki hægt að nota til að velja heppilegt gildi á $k$. Með því að nota t.d. alla $N$ punktana sem fulltrúa $(k=N)$ fæst $J=0$ (sem er fullkomnlega gagnlaus lausn!)"
   ]
  },
  {
   "cell_type": "markdown",
   "metadata": {},
   "source": [
    "b) Choose a value of $k$ from part (a) and investigate your results by looking at the words and article titles associated with each centroid. Feel free to visit Wikipedia if an article’s content is unclear from its title. Give a short description of the topics your clustering discovered along with the 3 most common words from each topic. If the topics do not make sense pick another value of $k$."
   ]
  },
  {
   "cell_type": "code",
   "execution_count": 4,
   "metadata": {},
   "outputs": [
    {
     "name": "stdout",
     "output_type": "stream",
     "text": [
      "\n",
      "Hopur 1\n",
      "['A Bar at the Folies-Bergère' 'Alfred Sisley' 'Armand Guillaumin'\n",
      " 'Art Institute of Chicago'\n",
      " 'A Sunday Afternoon on the Island of La Grande Jatte']\n",
      "\n",
      "Hopur 2\n",
      "['Brock (Pokémon)' 'Bulbasaur' 'Deoxys' 'Eevee' 'Gameplay of Pokémon']\n",
      "\n",
      "Hopur 3\n",
      "['Acid rain' 'Albedo' 'Anemometer' 'Anticyclone' 'Atmosphere']\n",
      "\n",
      "Hopur 4\n",
      "['Amplitude modulation' 'Amplitude-shift keying' 'Analog signal'\n",
      " 'Antenna (radio)' 'Asynchronous Transfer Mode']\n",
      "\n",
      "Hopur 5\n",
      "['Convention on the Rights of Persons with Disabilities'\n",
      " 'Food and Agriculture Organization' 'Headquarters of the United Nations'\n",
      " 'International Bank for Reconstruction and Development'\n",
      " 'International Centre for Settlement of Investment Disputes']\n",
      "\n",
      "Hopur 1\n",
      "painting   0.2541\n",
      "art   0.1441\n",
      "paintings   0.1264\n",
      "artists   0.1003\n",
      "monet   0.0938\n",
      "\n",
      "Hopur 2\n",
      "pokemon   0.6666\n",
      "game   0.1986\n",
      "games   0.1767\n",
      "player   0.1116\n",
      "nintendo   0.0903\n",
      "\n",
      "Hopur 3\n",
      "weather   0.093\n",
      "wind   0.0816\n",
      "pressure   0.0794\n",
      "air   0.0751\n",
      "temperature   0.0734\n",
      "\n",
      "Hopur 4\n",
      "signal   0.1368\n",
      "radio   0.1145\n",
      "frequency   0.0753\n",
      "telephone   0.0724\n",
      "digital   0.0681\n",
      "\n",
      "Hopur 5\n",
      "nations   0.2031\n",
      "international   0.1355\n",
      "member   0.0889\n",
      "council   0.0889\n",
      "countries   0.0873\n"
     ]
    }
   ],
   "source": [
    "# Það eru 5 efnishópar þ.a. k verður að vera a.m.k. 5\n",
    "# Með t.d. k=10 gæti t.d. \"veður hópurinn\" skipst upp\n",
    "# í smærri hópa\n",
    "k=5\n",
    "\n",
    "centroid, labels, j_hist = kmeans(article_histograms, k)\n",
    "\n",
    "# Nöfn 5 greina í hverjum hópi\n",
    "for kval in range(k):\n",
    "    print(\"\\nHopur\", kval+1)\n",
    "    titles=article_titles[labels==kval]\n",
    "    print(titles[0:5])\n",
    "\n",
    "# Nokkur algengustu orðin\n",
    "for kval in range(k):\n",
    "    print(\"\\nHopur\", kval+1)\n",
    "    cnt=np.argsort(centroid[kval,:])\n",
    "    for i in range(5):\n",
    "        print(dictionary[cnt[-(i+1)]],\" \", np.round(centroid[kval,cnt[-(i+1)]],4))"
   ]
  },
  {
   "cell_type": "markdown",
   "metadata": {},
   "source": [
    "Hóparnir svara til (ekki endilega í eftirfarandi röð): alþjóðlegra stofnana, rafmangsverkfræði, lista, veðurfyrirbrigða,  og Pókemon leiksins."
   ]
  },
  {
   "cell_type": "markdown",
   "metadata": {},
   "source": [
    "# Tímadæmi\n",
    "\n",
    "1\\. Dæmi 4.2 í bók.\n",
    "\n",
    "**Lausn**:\n",
    "\n",
    "a) [Teiknið mynd af nokkrum punktum sem mynda 2 hópa í pósitífa fjórðungi hnitakerfisins og sýnið miðpunktar hópanna lenda líka í pósitífa fjórðungnum]. Nánar:\n",
    "\n",
    "Fulltrúi $z_j$ er meðaltal hlutmengis af vigrunum $x_1,\\ldots,x_N$, $$z_j = \\frac{1}{|G_j|} \\sum_{i \\in G_j} x_i$$ þar sem $G_j$ er mengi sem inniheldur vísa (e. indices) fyrir punktana sem eru í $z_j$ (sjá bls. 72 í bók). Meðaltal af ekki-neikvæðum stærðum verður alltaf ekki-neikvætt.\n",
    "\n",
    "b) [Hér er gott að byrja á einföldu dæmi. G.r.f. að $G_1=\\{1,2\\}$ og $x_1=(0.3, 0.7)$ og $x_2=(0.1, 0.9)$ þá er $(z_1)_1=(0.3+0.1)/2=0.2$ og $(z_1)_2=(0.7+0.9)/2=0.8$ og þá $(z_1)_1 + (z_1)_2 = 0.2 + 0.8 = 1$] Nánar:\n",
    "\\begin{eqnarray*}\n",
    "(z_j)_1 + \\ldots (z_j)_n = \\frac{1}{|G_j|} \\sum_{i \\in G_j} (x_i)_1 + \\ldots + \\frac{1}{|G_j|} \\sum_{i \\in G_j} (x_i)_n\n",
    "\t\t\t &=& \\frac{1}{|G_j|} \\sum_{i \\in G_j} ((x_i)_1 + \\ldots + (x_i)_n)\n",
    "\t\t\t &=& \\frac{1}{|G_j|} \\sum_{i \\in G_j} (1)\n",
    "\t\t\t &=& \\frac{1}{|G_j|} (|G_j|)(1)\n",
    "\t\t\t &=& 1.\n",
    "\\end{eqnarray*}\n",
    "\n",
    "c) $i$-ta stak $j$-ta fulltrúa, $(z_j)_i$, má túlka sem hlutfall $x$-vigra í hópi $j$ sem hafa $i$-ta stak jafnt einum. Ef $x$ geymir t.d. upplýsingar um sjúklinga og $(x_\\ell)_i$ er 1 ef sjúklingur $\\ell$ hefur verk fyrir brjósti þá er $(z_j)_i$ hlutfall sjúklinga í hópi $j$ með brjóstverk.\n",
    "\n",
    "\n",
    "2\\. Dæmi 5.1 í bók.\n",
    "\n",
    "**Lausn**:\n",
    "\n",
    "a) Nei. Mótdæmi eru vigrar $a_1,\\ldots a_k$ og $b_1,\\ldots,b_k$ með $k > n+m$ sbr. setningu í grein 5.2 sem segir að línulega óháð safn af  $n$-vigrum getur mest haft  $n$--stök. Með öðrum orðum, sérhvert safn  $n+1$ eða fleiri $n$-vigra er línulega háð.\n",
    "\n",
    "b) Nei. Motdæmi er t.d. $a_1=(1,0),~a_2=(2,0)$ og $b_1=(0),~ b_2=(1)$. Vigrarnir $a_1$ og $a_2$ eru línulega háðir en blokkvigrarnir $c_1$ og $c_2$ eru línulega óháðir.\n",
    "\n",
    "\n",
    "3\\. Dæmi 5.6 í bók.\n",
    "\n",
    "**Lausn**:\n",
    "Þar sem $||a_1||=1$ er $q_1=a_1$.\n",
    "Vigurinn $q_2 = a_2 - (q_1^T a_2) q_1 = (1,1,0,\\ldots,0) - ((1,0,\\ldots,0)^T(1,1,0,\\ldots,0))(1,0,\\ldots, 0) \n",
    "\t      = (1,1,0,\\ldots,0) - 1(1,0,\\ldots,0) = (0,1,0,\\ldots,0)$.\n",
    "Á sama hátt fæst að $q_3 = (0,0,1,0,\\ldots,0)$ og almennt að $q_i=e_i$ (þar sem $e_i$ táknar $i$-ta einingavigur). Reikniritið keyrir þannig til enda og $a_1,\\ldots,a_k$ því grunnur."
   ]
  },
  {
   "cell_type": "code",
   "execution_count": 3,
   "metadata": {},
   "outputs": [
    {
     "data": {
      "text/plain": [
       "(10, 1000)"
      ]
     },
     "execution_count": 3,
     "metadata": {},
     "output_type": "execute_result"
    }
   ],
   "source": [
    "centroid.shape"
   ]
  },
  {
   "cell_type": "code",
   "execution_count": null,
   "metadata": {
    "collapsed": true
   },
   "outputs": [],
   "source": []
  }
 ],
 "metadata": {
  "kernelspec": {
   "display_name": "Python 3",
   "language": "python",
   "name": "python3"
  },
  "language_info": {
   "codemirror_mode": {
    "name": "ipython",
    "version": 3
   },
   "file_extension": ".py",
   "mimetype": "text/x-python",
   "name": "python",
   "nbconvert_exporter": "python",
   "pygments_lexer": "ipython3",
   "version": "3.6.3"
  }
 },
 "nbformat": 4,
 "nbformat_minor": 2
}
