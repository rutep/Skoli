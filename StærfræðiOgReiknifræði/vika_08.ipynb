{
 "cells": [
  {
   "cell_type": "markdown",
   "metadata": {},
   "source": [
    "# Vika 8\n",
    "\n",
    "Dagsetning: 5. apríl"
   ]
  },
  {
   "cell_type": "markdown",
   "metadata": {},
   "source": [
    "## Sýnidæmi úr bók bls. 253\n",
    "\n",
    "Olíunotkun á heimsvísu milli 1980 og 2013."
   ]
  },
  {
   "cell_type": "code",
   "execution_count": 2,
   "metadata": {},
   "outputs": [
    {
     "ename": "UnicodeDecodeError",
     "evalue": "'ascii' codec can't decode byte 0xc3 in position 0: ordinal not in range(128)",
     "output_type": "error",
     "traceback": [
      "\u001b[0;31m---------------------------------------------------------------------------\u001b[0m",
      "\u001b[0;31mUnicodeDecodeError\u001b[0m                        Traceback (most recent call last)",
      "\u001b[0;32m<ipython-input-2-3e8b57f205e6>\u001b[0m in \u001b[0;36m<module>\u001b[0;34m()\u001b[0m\n\u001b[1;32m     16\u001b[0m \u001b[0myp\u001b[0m \u001b[0;34m=\u001b[0m \u001b[0mnp\u001b[0m\u001b[0;34m.\u001b[0m\u001b[0mdot\u001b[0m\u001b[0;34m(\u001b[0m\u001b[0mnp\u001b[0m\u001b[0;34m.\u001b[0m\u001b[0mc_\u001b[0m\u001b[0;34m[\u001b[0m\u001b[0mnp\u001b[0m\u001b[0;34m.\u001b[0m\u001b[0mones\u001b[0m\u001b[0;34m(\u001b[0m\u001b[0mm\u001b[0m\u001b[0;34m)\u001b[0m\u001b[0;34m,\u001b[0m \u001b[0mx\u001b[0m\u001b[0;34m]\u001b[0m\u001b[0;34m,\u001b[0m \u001b[0mtheta\u001b[0m\u001b[0;34m)\u001b[0m \u001b[0;31m# Reiknum spágildi fyrir punktana í x\u001b[0m\u001b[0;34m\u001b[0m\u001b[0m\n\u001b[1;32m     17\u001b[0m \u001b[0mplt\u001b[0m\u001b[0;34m.\u001b[0m\u001b[0mplot\u001b[0m\u001b[0;34m(\u001b[0m\u001b[0mx\u001b[0m \u001b[0;34m+\u001b[0m \u001b[0;36m1980\u001b[0m\u001b[0;34m,\u001b[0m \u001b[0myp\u001b[0m\u001b[0;34m,\u001b[0m \u001b[0;34m'r-'\u001b[0m\u001b[0;34m)\u001b[0m\u001b[0;34m\u001b[0m\u001b[0m\n\u001b[0;32m---> 18\u001b[0;31m \u001b[0mplt\u001b[0m\u001b[0;34m.\u001b[0m\u001b[0mxlabel\u001b[0m\u001b[0;34m(\u001b[0m\u001b[0;34m'Ár'\u001b[0m\u001b[0;34m)\u001b[0m\u001b[0;34m\u001b[0m\u001b[0m\n\u001b[0m\u001b[1;32m     19\u001b[0m \u001b[0mplt\u001b[0m\u001b[0;34m.\u001b[0m\u001b[0mylabel\u001b[0m\u001b[0;34m(\u001b[0m\u001b[0;34m'Olíunotkun (milljónir tunna á dag)'\u001b[0m\u001b[0;34m)\u001b[0m\u001b[0;34m\u001b[0m\u001b[0m\n\u001b[1;32m     20\u001b[0m \u001b[0mplt\u001b[0m\u001b[0;34m.\u001b[0m\u001b[0mtitle\u001b[0m\u001b[0;34m(\u001b[0m\u001b[0;34m'Olínotkun í heiminum á árunum 1980 - 2013'\u001b[0m\u001b[0;34m)\u001b[0m\u001b[0;34m\u001b[0m\u001b[0m\n",
      "\u001b[0;32m/usr/local/lib/python2.7/dist-packages/matplotlib/pyplot.pyc\u001b[0m in \u001b[0;36mxlabel\u001b[0;34m(s, *args, **kwargs)\u001b[0m\n\u001b[1;32m   1492\u001b[0m             \u001b[0mFor\u001b[0m \u001b[0minformation\u001b[0m \u001b[0mon\u001b[0m \u001b[0mhow\u001b[0m \u001b[0moverride\u001b[0m \u001b[0;32mand\u001b[0m \u001b[0mthe\u001b[0m \u001b[0moptional\u001b[0m \u001b[0margs\u001b[0m \u001b[0mwork\u001b[0m\u001b[0;34m\u001b[0m\u001b[0m\n\u001b[1;32m   1493\u001b[0m     \"\"\"\n\u001b[0;32m-> 1494\u001b[0;31m     \u001b[0;32mreturn\u001b[0m \u001b[0mgca\u001b[0m\u001b[0;34m(\u001b[0m\u001b[0;34m)\u001b[0m\u001b[0;34m.\u001b[0m\u001b[0mset_xlabel\u001b[0m\u001b[0;34m(\u001b[0m\u001b[0ms\u001b[0m\u001b[0;34m,\u001b[0m \u001b[0;34m*\u001b[0m\u001b[0margs\u001b[0m\u001b[0;34m,\u001b[0m \u001b[0;34m**\u001b[0m\u001b[0mkwargs\u001b[0m\u001b[0;34m)\u001b[0m\u001b[0;34m\u001b[0m\u001b[0m\n\u001b[0m\u001b[1;32m   1495\u001b[0m \u001b[0;34m\u001b[0m\u001b[0m\n\u001b[1;32m   1496\u001b[0m \u001b[0;34m\u001b[0m\u001b[0m\n",
      "\u001b[0;32m/usr/local/lib/python2.7/dist-packages/matplotlib/axes/_axes.pyc\u001b[0m in \u001b[0;36mset_xlabel\u001b[0;34m(self, xlabel, fontdict, labelpad, **kwargs)\u001b[0m\n\u001b[1;32m    219\u001b[0m         \u001b[0;32mif\u001b[0m \u001b[0mlabelpad\u001b[0m \u001b[0;32mis\u001b[0m \u001b[0;32mnot\u001b[0m \u001b[0mNone\u001b[0m\u001b[0;34m:\u001b[0m\u001b[0;34m\u001b[0m\u001b[0m\n\u001b[1;32m    220\u001b[0m             \u001b[0mself\u001b[0m\u001b[0;34m.\u001b[0m\u001b[0mxaxis\u001b[0m\u001b[0;34m.\u001b[0m\u001b[0mlabelpad\u001b[0m \u001b[0;34m=\u001b[0m \u001b[0mlabelpad\u001b[0m\u001b[0;34m\u001b[0m\u001b[0m\n\u001b[0;32m--> 221\u001b[0;31m         \u001b[0;32mreturn\u001b[0m \u001b[0mself\u001b[0m\u001b[0;34m.\u001b[0m\u001b[0mxaxis\u001b[0m\u001b[0;34m.\u001b[0m\u001b[0mset_label_text\u001b[0m\u001b[0;34m(\u001b[0m\u001b[0mxlabel\u001b[0m\u001b[0;34m,\u001b[0m \u001b[0mfontdict\u001b[0m\u001b[0;34m,\u001b[0m \u001b[0;34m**\u001b[0m\u001b[0mkwargs\u001b[0m\u001b[0;34m)\u001b[0m\u001b[0;34m\u001b[0m\u001b[0m\n\u001b[0m\u001b[1;32m    222\u001b[0m \u001b[0;34m\u001b[0m\u001b[0m\n\u001b[1;32m    223\u001b[0m     \u001b[0;32mdef\u001b[0m \u001b[0mget_ylabel\u001b[0m\u001b[0;34m(\u001b[0m\u001b[0mself\u001b[0m\u001b[0;34m)\u001b[0m\u001b[0;34m:\u001b[0m\u001b[0;34m\u001b[0m\u001b[0m\n",
      "\u001b[0;32m/usr/local/lib/python2.7/dist-packages/matplotlib/axis.pyc\u001b[0m in \u001b[0;36mset_label_text\u001b[0;34m(self, label, fontdict, **kwargs)\u001b[0m\n\u001b[1;32m   1522\u001b[0m         \"\"\"\n\u001b[1;32m   1523\u001b[0m         \u001b[0mself\u001b[0m\u001b[0;34m.\u001b[0m\u001b[0misDefault_label\u001b[0m \u001b[0;34m=\u001b[0m \u001b[0mFalse\u001b[0m\u001b[0;34m\u001b[0m\u001b[0m\n\u001b[0;32m-> 1524\u001b[0;31m         \u001b[0mself\u001b[0m\u001b[0;34m.\u001b[0m\u001b[0mlabel\u001b[0m\u001b[0;34m.\u001b[0m\u001b[0mset_text\u001b[0m\u001b[0;34m(\u001b[0m\u001b[0mlabel\u001b[0m\u001b[0;34m)\u001b[0m\u001b[0;34m\u001b[0m\u001b[0m\n\u001b[0m\u001b[1;32m   1525\u001b[0m         \u001b[0;32mif\u001b[0m \u001b[0mfontdict\u001b[0m \u001b[0;32mis\u001b[0m \u001b[0;32mnot\u001b[0m \u001b[0mNone\u001b[0m\u001b[0;34m:\u001b[0m\u001b[0;34m\u001b[0m\u001b[0m\n\u001b[1;32m   1526\u001b[0m             \u001b[0mself\u001b[0m\u001b[0;34m.\u001b[0m\u001b[0mlabel\u001b[0m\u001b[0;34m.\u001b[0m\u001b[0mupdate\u001b[0m\u001b[0;34m(\u001b[0m\u001b[0mfontdict\u001b[0m\u001b[0;34m)\u001b[0m\u001b[0;34m\u001b[0m\u001b[0m\n",
      "\u001b[0;32m/usr/local/lib/python2.7/dist-packages/matplotlib/text.pyc\u001b[0m in \u001b[0;36mset_text\u001b[0;34m(self, s)\u001b[0m\n\u001b[1;32m   1176\u001b[0m         \u001b[0mACCEPTS\u001b[0m\u001b[0;34m:\u001b[0m \u001b[0mstring\u001b[0m \u001b[0;32mor\u001b[0m \u001b[0manything\u001b[0m \u001b[0mprintable\u001b[0m \u001b[0;32mwith\u001b[0m \u001b[0;34m'%s'\u001b[0m \u001b[0mconversion\u001b[0m\u001b[0;34m.\u001b[0m\u001b[0;34m\u001b[0m\u001b[0m\n\u001b[1;32m   1177\u001b[0m         \"\"\"\n\u001b[0;32m-> 1178\u001b[0;31m         \u001b[0mself\u001b[0m\u001b[0;34m.\u001b[0m\u001b[0m_text\u001b[0m \u001b[0;34m=\u001b[0m \u001b[0;34m'%s'\u001b[0m \u001b[0;34m%\u001b[0m \u001b[0;34m(\u001b[0m\u001b[0ms\u001b[0m\u001b[0;34m,\u001b[0m\u001b[0;34m)\u001b[0m\u001b[0;34m\u001b[0m\u001b[0m\n\u001b[0m\u001b[1;32m   1179\u001b[0m         \u001b[0mself\u001b[0m\u001b[0;34m.\u001b[0m\u001b[0mstale\u001b[0m \u001b[0;34m=\u001b[0m \u001b[0mTrue\u001b[0m\u001b[0;34m\u001b[0m\u001b[0m\n\u001b[1;32m   1180\u001b[0m \u001b[0;34m\u001b[0m\u001b[0m\n",
      "\u001b[0;31mUnicodeDecodeError\u001b[0m: 'ascii' codec can't decode byte 0xc3 in position 0: ordinal not in range(128)"
     ]
    }
   ],
   "source": [
    "import numpy as np\n",
    "import matplotlib.pyplot as plt\n",
    "\n",
    "# Gögn lesin úr skrá\n",
    "data = np.genfromtxt('oliunotkun.csv', skip_header=True, delimiter='\\t')\n",
    "x = data[:,0] - 1980\n",
    "y = data[:,1]/1000 # Milljónir tunna\n",
    "\n",
    "# Finna líkan á forminu f(t)=θ1 + θ2*x\n",
    "m = x.shape[0]\n",
    "A = np.c_[np.ones(m), x]\n",
    "theta,res,rank,_ = np.linalg.lstsq(A, y, rcond=False)\n",
    "\n",
    "# Teikna gögn ásamt bestu línu\n",
    "plt.scatter(x + 1980, y)\n",
    "yp = np.dot(np.c_[np.ones(m), x], theta) # Reiknum spágildi fyrir punktana í x\n",
    "plt.plot(x + 1980, yp, 'r-')\n",
    "plt.xlabel('Ár')\n",
    "plt.ylabel('Olíunotkun (milljónir tunna á dag)')\n",
    "plt.title('Olínotkun í heiminum á árunum 1980 - 2013')\n",
    "plt.show()\n",
    "\n",
    "# Drögum línuna frá gögnunum til að sjá sveiflur betur\n",
    "plt.plot(x + 1980, y - yp, 'bo-')\n",
    "plt.xlabel('Ár')\n",
    "plt.ylabel('Olíunotkun (milljónir tunna á dag)')\n",
    "plt.title('Olínotkun eftir að línuleg leitni hefur verið fjarlægð')\n",
    "plt.show()"
   ]
  },
  {
   "cell_type": "markdown",
   "metadata": {},
   "source": [
    "## Aðhvarfsgreining með margliðum\n",
    "\n",
    "Notum tilbúin gögn að þessu sinni. Við þekkjum því undirliggjandi fallið $f$ og við ætlum að sjá hversu vel okkur gengur að nálga það í framhaldinu. Gildin á $x$ eru slembin og $y_i=0.5 x_i^4 - 0.4x_i^3 - 4x_i^2 + x_i + 2 + \\epsilon_i$ þar sem $\\epsilon_i$ er (normaldreift) \"suð\". "
   ]
  },
  {
   "cell_type": "code",
   "execution_count": 5,
   "metadata": {},
   "outputs": [],
   "source": [
    "def tilbuin_gogn(N):\n",
    "    # Tilbúið gagnasafn\n",
    "    x = np.random.uniform(-3,3,N)\n",
    "    y = 0.5*x**4 -0.4*x**3 - 4*x**2+x + 2 + np.random.normal(0.0,0.5,N) # 4. stigs margliða\n",
    "    return x,y"
   ]
  },
  {
   "cell_type": "code",
   "execution_count": null,
   "metadata": {},
   "outputs": [],
   "source": []
  },
  {
   "cell_type": "code",
   "execution_count": 6,
   "metadata": {},
   "outputs": [
    {
     "name": "stdout",
     "output_type": "stream",
     "text": [
      " \n",
      "-1.195 x - 1.811\n"
     ]
    },
    {
     "data": {
      "image/png": "[encoded data removed]",
      "text/plain": [
       "<matplotlib.figure.Figure at 0x7ff61465d290>"
      ]
     },
     "metadata": {},
     "output_type": "display_data"
    },
    {
     "name": "stdout",
     "output_type": "stream",
     "text": [
      "        2\n",
      "0.2073 x - 1.125 x - 2.412\n"
     ]
    },
    {
     "data": {
      "image/png": "[encoded data removed]",
      "text/plain": [
       "<matplotlib.figure.Figure at 0x7ff5f74acf90>"
      ]
     },
     "metadata": {},
     "output_type": "display_data"
    },
    {
     "name": "stdout",
     "output_type": "stream",
     "text": [
      "        4          3         2\n",
      "0.4989 x - 0.4627 x - 3.916 x + 1.478 x + 1.968\n"
     ]
    },
    {
     "data": {
      "image/png": "[encoded data removed]",
      "text/plain": [
       "<matplotlib.figure.Figure at 0x7ff5f74acf50>"
      ]
     },
     "metadata": {},
     "output_type": "display_data"
    },
    {
     "name": "stdout",
     "output_type": "stream",
     "text": [
      "          8            7          6           5         4          3\n",
      "0.009418 x + 0.003251 x - 0.1669 x - 0.03585 x + 1.436 x - 0.3793 x\n",
      "          2\n",
      " - 5.649 x + 1.5 x + 2.432\n"
     ]
    },
    {
     "data": {
      "image/png": "[encoded data removed]",
      "text/plain": [
       "<matplotlib.figure.Figure at 0x7ff5f7255690>"
      ]
     },
     "metadata": {},
     "output_type": "display_data"
    },
    {
     "name": "stdout",
     "output_type": "stream",
     "text": [
      "          16          15          14         13         12         11\n",
      "-0.02448 x  - 0.2135 x  - 0.2463 x  + 2.916 x  + 9.512 x  - 5.777 x \n",
      "          10         9         8         7         6         5\n",
      " - 65.27 x  - 64.37 x + 139.8 x + 320.7 x + 50.83 x - 430.9 x\n",
      "          4         3         2\n",
      " - 411.5 x + 39.64 x + 240.3 x + 124.1 x + 20.3\n"
     ]
    },
    {
     "data": {
      "image/png": "[encoded data removed]",
      "text/plain": [
       "<matplotlib.figure.Figure at 0x7ff5f7255650>"
      ]
     },
     "metadata": {},
     "output_type": "display_data"
    }
   ],
   "source": [
    "N=20\n",
    "x,y = tilbuin_gogn(N)\n",
    "\n",
    "for k in [1,2,4,8,16]:\n",
    "    pz = np.polyfit(x,y,k) # finnum k-ta stigs margliðu\n",
    "    p = np.poly1d(pz) # Klasi sem einfaldar umstang með margliður\n",
    "    xp = np.linspace(min(x),max(x),100)\n",
    "    plt.plot(x,y,'.',xp,p(xp),'-') # plottum gögn vs margliðu\n",
    "    print(p)\n",
    "    plt.show()"
   ]
  },
  {
   "cell_type": "code",
   "execution_count": null,
   "metadata": {},
   "outputs": [],
   "source": []
  },
  {
   "cell_type": "code",
   "execution_count": null,
   "metadata": {},
   "outputs": [],
   "source": []
  },
  {
   "cell_type": "markdown",
   "metadata": {},
   "source": [
    "Þegar gráða margliðu hækkar þá lækkar ferviksskekkja en það merkir ekki endilega að líkanið spái réttilega fyrir um óséð gögn, þ.e. gögn sem voru ekki notuð til að meta stika líkansins. Setjum til hliðar hluta gagna (\"prófunargögn\"), t.d. 20% og notum RMS skekkju á þau gögn sem mælikvarða á gæði líkans."
   ]
  },
  {
   "cell_type": "code",
   "execution_count": 7,
   "metadata": {},
   "outputs": [
    {
     "name": "stdout",
     "output_type": "stream",
     "text": [
      "[ 2.14250854 -1.87912227  1.44876447 -0.51614303 -1.23055558 -1.14967093\n",
      " -0.26523881 -2.35378931 -0.39982281  1.92355895 -1.93397844 -2.97181901\n",
      " -2.49451645 -0.23537474 -2.64875948 -1.94317099]\n"
     ]
    }
   ],
   "source": [
    "# Setja \n",
    "ntrain=int(0.2*N)\n",
    "x1 = x[:-ntrain] # Þjálfunargögn\n",
    "y1 = y[:-ntrain]\n",
    "x2 = x[-ntrain:] # Prófunargögn\n",
    "y2 = y[-ntrain:]\n",
    "print(x1)\n",
    "\n",
    "def rms(u):\n",
    "    return np.linalg.norm(u)/np.sqrt(len(u))"
   ]
  },
  {
   "cell_type": "code",
   "execution_count": null,
   "metadata": {},
   "outputs": [],
   "source": []
  },
  {
   "cell_type": "code",
   "execution_count": null,
   "metadata": {},
   "outputs": [],
   "source": []
  },
  {
   "cell_type": "code",
   "execution_count": null,
   "metadata": {},
   "outputs": [],
   "source": []
  },
  {
   "cell_type": "code",
   "execution_count": 9,
   "metadata": {},
   "outputs": [
    {
     "name": "stdout",
     "output_type": "stream",
     "text": [
      "[1.5203780788766814, 2.3801914504783164, 2.4508218296596356, 15.284765607832247, 0.77514801379675835, 2.8329152526759791, 9.6858176899769006, 4.1862386185968097, 50.442930002845699, 79.661628321534181, 1178.622466900779, 17036.477245160208, 24556.320230668716, 86426.276370737571, 544672.04503380565]\n"
     ]
    }
   ],
   "source": [
    "test_rms = []\n",
    "train_rms = []\n",
    "for k in range(15):\n",
    "    pz = np.polyfit(x1,y1,k) # finnum k-ta stigs margliðu\n",
    "    p = np.poly1d(pz)\n",
    "    train_rms.append(rms(y1 - p(x1))) # RMS skekkja þjálfunargagna\n",
    "    test_rms.append(rms(y2 - p(x2))) # RMS skekkja prófunargagna\n",
    "print(test_rms)\n"
   ]
  },
  {
   "cell_type": "code",
   "execution_count": null,
   "metadata": {},
   "outputs": [],
   "source": []
  },
  {
   "cell_type": "code",
   "execution_count": null,
   "metadata": {},
   "outputs": [],
   "source": []
  },
  {
   "cell_type": "code",
   "execution_count": null,
   "metadata": {},
   "outputs": [],
   "source": [
    "train_rms"
   ]
  },
  {
   "cell_type": "code",
   "execution_count": null,
   "metadata": {},
   "outputs": [],
   "source": [
    "test_rms"
   ]
  },
  {
   "cell_type": "code",
   "execution_count": null,
   "metadata": {},
   "outputs": [],
   "source": [
    "plt.plot(range(len(test_rms)), train_rms,'-',color='blue',label='þjálfunargögn')\n",
    "plt.plot(range(len(train_rms)), np.clip(test_rms,0,4),'-',color='red', label='prófunargögn')\n",
    "plt.legend()\n",
    "plt.show()"
   ]
  },
  {
   "cell_type": "markdown",
   "metadata": {},
   "source": [
    "Af grafinu sést að margliða með gráðu á bilinu 4 til 8 gefur lægsta spáskekkju (getur breyst lítillega ef kóðinn er keyrður aftur því gögn eru slembin)."
   ]
  },
  {
   "cell_type": "markdown",
   "metadata": {},
   "source": [
    "## Cross-validation bls. 264-266\n",
    "\n",
    "Sýnidæmi úr bók um aðhvarfsgreiningarlíkan fyrir húsnæðisverð (sjá líka bls. 39). Spálíkanið er $\\hat{y} = x^T \\beta + v = \\beta_1 x_1 + \\beta_2 x_2 + v$.\n",
    "\n",
    "<img src=\"vika8regression.png\" width=\"400\" height=\"400\" />"
   ]
  },
  {
   "cell_type": "markdown",
   "metadata": {},
   "source": [
    "## Minnstu kvaðrata flokkari\n",
    "\n",
    "Sýnidæmi bls. 289 - 290 (Iris gagnasafnið)\n",
    "\n",
    "<img src=\"vika8iris.png\" width=\"400\" height=\"400\" />"
   ]
  },
  {
   "cell_type": "code",
   "execution_count": 11,
   "metadata": {
    "scrolled": true
   },
   "outputs": [
    {
     "name": "stdout",
     "output_type": "stream",
     "text": [
      "('theta:', array([ 2.64276905,  0.31804135, -0.64653815, -0.58353933]))\n",
      "0\n"
     ]
    }
   ],
   "source": [
    "data=np.genfromtxt('iris.csv',skip_header=True)\n",
    "\n",
    "X=data[:,0:3] # Sepal (bikarblað) length, Sepal width, Petal (krónublað) length, Petal Width\n",
    "y=data[:,-1] # Flokkar Setosa=1, Versicolor=2, Virginica=3\n",
    "\n",
    "# Breyta í 2ja flokka verkefni, Virginica eða ekki\n",
    "y[y==3]=-1\n",
    "y[y==2]=1\n",
    "\n",
    "N = X.shape[0]\n",
    "A = np.c_[np.ones(N), X]\n",
    "theta,res,rank,_ = np.linalg.lstsq(A, y, rcond=False)\n",
    "print(\"theta:\", theta) # Ekki sömu gildi og í bók\n",
    "\n",
    "# Spá\n",
    "ypred=np.sign(np.dot(A,theta))\n",
    "\n",
    "print(np.sum(y != ypred)/N)"
   ]
  },
  {
   "cell_type": "code",
   "execution_count": null,
   "metadata": {},
   "outputs": [],
   "source": []
  },
  {
   "cell_type": "code",
   "execution_count": null,
   "metadata": {},
   "outputs": [],
   "source": []
  },
  {
   "cell_type": "markdown",
   "metadata": {},
   "source": [
    "# Flokkun á handskrifuðum stöfum (MNIST gagnasafnið) bls. 302 - 304\n",
    "\n",
    "<img src=\"vika8mnist.png\" width=\"600\" height=\"600\" />"
   ]
  },
  {
   "cell_type": "markdown",
   "metadata": {},
   "source": [
    "U.þ.b. 14% skekkja á prófunar- og þjálfunargögn þ.a. nákvæmni á óséð gögn er líklega svipuð.\n",
    "\n",
    "Skekkja í flokkun hjá mönnum er u.þ.b. 2%.\n",
    "\n",
    "Bestu flokkarar ná minna en 1% skekkju!"
   ]
  },
  {
   "cell_type": "code",
   "execution_count": null,
   "metadata": {},
   "outputs": [],
   "source": []
  }
 ],
 "metadata": {
  "kernelspec": {
   "display_name": "Python 2",
   "language": "python",
   "name": "python2"
  },
  "language_info": {
   "codemirror_mode": {
    "name": "ipython",
    "version": 2
   },
   "file_extension": ".py",
   "mimetype": "text/x-python",
   "name": "python",
   "nbconvert_exporter": "python",
   "pygments_lexer": "ipython2",
   "version": "2.7.12"
  }
 },
 "nbformat": 4,
 "nbformat_minor": 2
}
