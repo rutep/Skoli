{
 "cells": [
  {
   "cell_type": "markdown",
   "metadata": {},
   "source": [
    "* Pétur Daníel Ámundason\n",
    "* pda3@hi.is"
   ]
  },
  {
   "cell_type": "markdown",
   "metadata": {},
   "source": [
    "## Heimadæmi"
   ]
  },
  {
   "cell_type": "markdown",
   "metadata": {},
   "source": [
    "## 1\n",
    "\n",
    "* a) satt ef öll stök í fylkinu eru núl í G eða F þá er þetta satt\n",
    "* b) Ef F er þverstaðlað þá væri þetta ósatt F*G gæti þá verið hvað sem er\n",
    "* c) satt fylkin F*G væru alltaf 0\n",
    "* d) Ósatt F*G er ekki alltaf sama og núl\n",
    "* e) Ósatt ef F er línulega háðir þá er ekkert núl í þeim þannig að F*G getur ekki verið núl"
   ]
  },
  {
   "cell_type": "code",
   "execution_count": null,
   "metadata": {
    "collapsed": true
   },
   "outputs": [],
   "source": []
  },
  {
   "cell_type": "code",
   "execution_count": 131,
   "metadata": {},
   "outputs": [
    {
     "data": {
      "image/png": "[encoded data removed]",
      "text/plain": [
       "<matplotlib.figure.Figure at 0x117d19fb860>"
      ]
     },
     "metadata": {},
     "output_type": "display_data"
    },
    {
     "name": "stdout",
     "output_type": "stream",
     "text": [
      "[  5.37817024e+00   9.75801919e-09]\n"
     ]
    }
   ],
   "source": [
    "# a Dæmi 2\n",
    "\n",
    "import matplotlib.pyplot as plt\n",
    "import numpy as np\n",
    "smara = np.array([2250,\n",
    "2500,\n",
    "5000,\n",
    "29000,\n",
    "120000,\n",
    "275000,\n",
    "1180000,\n",
    "3100000,\n",
    "7500000,\n",
    "24000000,\n",
    "42000000,\n",
    "220000000,\n",
    "410000000])\n",
    "ar = np.array([1971,1972 ,1974,1978 ,1982 ,1985 ,1989 ,1993,1997,1999  ,2000  ,2002 ,2003 ])\n",
    "\n",
    "m=smara.shape[0]\n",
    "A=np.c_[np.ones(m),smara]\n",
    "theta,res,rank,_ = np.linalg.lstsq(A, np.log10(smara))\n",
    "# Teikna gögn\n",
    "plt.scatter(ar,smara)\n",
    "xp=np.linspace(min(smara),max(smara),0)\n",
    "yp=np.dot(np.c_[np.ones(xp.shape[0]), xp], np.power(10,theta))\n",
    "plt.plot(xp,yp,'r-')\n",
    "plt.xlabel('ar')\n",
    "plt.ylabel('smara')\n",
    "plt.show()\n",
    "print(theta)\n",
    "\n",
    "# b Moore virðist hafa haft nokkuð rétt fyrirsér alveg þangað til eftir 2000 \n",
    "# þá var farið að minka fjöldi transistora á ári\n",
    "\n",
    "# c  Moore virðist hafa haft frekar rétt fyrirsér með litlari skekkju"
   ]
  },
  {
   "cell_type": "code",
   "execution_count": 132,
   "metadata": {},
   "outputs": [
    {
     "name": "stdout",
     "output_type": "stream",
     "text": [
      "Meðaltal nemanda er =  7.37096774194\n",
      "Staðalfrávik nemanda er =  1.59154239269\n",
      "Meðaltal nemanda er =  8.17652329749\n",
      "Staðalfrávik nemanda er =  0.728237361277\n"
     ]
    }
   ],
   "source": [
    "# 3\n",
    "# a)\n",
    "\n",
    "scores=np.loadtxt('midterm2017.csv',delimiter=',')\n",
    "students = len(scores)\n",
    "questions = len(scores[1,:])\n",
    "x = np.ones(questions)\n",
    "x = x * 1/12\n",
    "x = np.dot(scores,x)\n",
    "y = np.ones(students)\n",
    "print(\"Meðaltal nemanda er = \", np.dot(y,x)/students)\n",
    "print(\"Staðalfrávik nemanda er = \", np.std(x))\n",
    "\n",
    "# b)\n",
    "\n",
    "scores=np.loadtxt('midterm2017.csv',delimiter=',')\n",
    "students = len(scores)\n",
    "questions = len(scores[1,:])\n",
    "x = np.array([1,1,1,1,1,0,0,0,0,0])\n",
    "x = x * 1/12\n",
    "x = np.dot(scores,x)\n",
    "y = np.ones(students)\n",
    "y = y*2\n",
    "print(\"Meðaltal nemanda er = \", np.dot(y,x)/students)\n",
    "print(\"Staðalfrávik nemanda er = \", np.std(x))"
   ]
  }
 ],
 "metadata": {
  "kernelspec": {
   "display_name": "Python 3",
   "language": "python",
   "name": "python3"
  },
  "language_info": {
   "codemirror_mode": {
    "name": "ipython",
    "version": 3
   },
   "file_extension": ".py",
   "mimetype": "text/x-python",
   "name": "python",
   "nbconvert_exporter": "python",
   "pygments_lexer": "ipython3",
   "version": "3.6.3"
  }
 },
 "nbformat": 4,
 "nbformat_minor": 2
}
