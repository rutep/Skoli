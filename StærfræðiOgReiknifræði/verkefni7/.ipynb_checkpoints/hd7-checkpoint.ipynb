{
 "cells": [
  {
   "cell_type": "markdown",
   "metadata": {},
   "source": [
    "# REI201G Heimaverkefni 7\n",
    "\n",
    "Sjöundi heimadæmaskammtur er úr kafla 12 og grein 13.1 í kennslubók og á að skila dæmunum föstudaginn **6. apríl**. Lausnum á að skila á Gradescope í formi Jupyter vinnubókar á PDF sniði (Velja File/Download as HTML, opna skrá í vafra og prenta í PDF skrá). Númer á dæmum hér að neðan vísa í kennslubók.\n",
    "\n",
    "Það verður einn dæmatími á þriðjudaginn fyrir páska og tveir dæmatímar á miðvikudaginn eftir páska.\n",
    "\n",
    "Eftirfarandi reglur gilda um heimadæmaskil:\n",
    "\n",
    "Þeir nemendur sem vinna að lausn heimadæma með öðrum þurfa alltaf að skrifa upp og skila inn sinni eigin lausn. Þeir þurfa ennfremur að tilgreina með hverjum var unnið að lausn verkefnisins. ** Það er óheimilt að fá lausnir hjá öðrum, afrita lausnir eða láta aðra fá lausnina sína. Ef kennari verður var við afritaðar lausnir mun hann lækka einkunn fyrir viðkomandi verkefni. ** Hikið ekki við að leita til kennara ef þið eruð í vafa um hvað telst eðlileg samvinna og hvað ekki."
   ]
  },
  {
   "cell_type": "markdown",
   "metadata": {},
   "source": [
    "## Heimadæmi"
   ]
  },
  {
   "cell_type": "markdown",
   "metadata": {},
   "source": [
    "1\\. Lát $F$ og $G$ vera $n \\times k$ fylki og gerið ráð fyrir að $F^T G=0$. Fyrir sérhverja fullyrðingu hér að neðan eigið þið að ákvarða hvort hún sé alltaf sönn eða geti verið ósönn. Það að fullyrðing sé \"alltaf sönn\" merkir að hún gildi fyrir öll $n \\times k$ fylki $F$ og $G$ sem uppfylla $F^T G=0$, án frekari forsenda. Fullyrðing \"getur verið ósönn\" ef til eru $n \\times k$ fylki $F$ og $G$ sem uppfylla $F^T G=0$ en fullyrðingin er ósönn. Skýrið svör ykkar stuttlega.\n",
    "\n",
    "|Liður|Fullyrðing|    |     |\n",
    "|-----|:--------:|----|-----|\n",
    "|a)   |Annaðhvort $G$ eða $F$ er 0.|Satt|Ósatt|\n",
    "|b)   |Dálkar $F$ eru þverstaðlaðir.|Satt|Ósatt|\n",
    "|c)   |Sérhver dálkur $F$ er hornréttur á sérhvern dálk $G$.|Satt|Ósatt|\n",
    "|d)   |Fylkin $F$ og $G$ eru há eða eru ferningsfylki, þ.e. $n \\geq k$.|Satt|Ósatt|\n",
    "|e)   |Dálkar $F$ eru línulega háðir.|Satt|Ósatt|\n",
    "\n",
    "2\\. [Aðhvarfsgreining með einni inntaksbreytu, dæmi 13.3 í bók] Taflan hér að neðan sýnir fjölda smára (e. transistor) $N$ í 13 örgjörvum auk ártals þegar þeir komu á markað.\n",
    "\n",
    "| Ár |  Fjöldi  |   \n",
    "|:--:|:--------:|\n",
    "|1971|      2250|\n",
    "|1972|      2500|\n",
    "|1974|      5000|\n",
    "|1978|     29000|\n",
    "|1982|    120000|\n",
    "|1985|    275000|\n",
    "|1989|   1180000|\n",
    "|1993|   3100000|\n",
    "|1997|   7500000|\n",
    "|1999|  24000000|\n",
    "|2000|  42000000|\n",
    "|2002| 220000000|\n",
    "|2003| 410000000|\n",
    "\n",
    "Hér eigið þið að nota aðferð minnstu kvaðrata til að finna bestu línu gegnum punktana þegar líkanið er\n",
    "$$\n",
    "\\log_{10} N = \\theta_1 + \\theta_2 (t - 1970)\n",
    "$$\n",
    "þar sem $t$ er ártal og $N$ er fjöldi smára. Athugið að $\\theta_1$ er spá fyrir lógarithmanum af fjölda smára árið 1970 og $10^{\\theta_2}$ er spá líkans um hlutfallslega aukningu í fjölda smára milli ára.\n",
    "\n",
    "a) Finnið stuðla $\\theta_1$ og $\\theta_2$ sem lágmarka RMS spáskekkju og tilgreinið RMS skekkjuna (þið byrjið á að taka logarithma af fjölda smára). Útbúið mynd sem sýnir gögnin ásamt línunni. Notið `matplotlib.pyplot.scatter` til að teikna gögnin, `matplotlib.pyplot.plot` til að teikna línuna (sjá vika7.ipynb á Piazza) og merkið ása á grafinu með `pyplt.xlabel` og `pyplt.ylabel`. Þið reiknið $\\log_{10}$ með `numpy.log10` og hefjið í veldi með `numpy.power`.\n",
    "\n",
    "b) Notið líkanið til að spá fyrir um fjölda smára í örgjörva sem kom á markað árið 2015. Berið spána saman við IBM Z13 örgjörvan sem kom á markað 2015 og hefur u.þ.b. $4\\times 10^9$ smára.\n",
    "\n",
    "c) Berið niðurstöðu ykkar við lögmál Moore sem segir að fjöldi smára í rafrásum (e. integrated circuit) tvöfaldist á eins og hálfs til tveggja ára fresti.\n",
    "\n",
    "Lögmálið var sett fram af Gordon Moore, öðrum stofnanda Intel, í tímaritsgrein árið 1965."
   ]
  },
  {
   "cell_type": "markdown",
   "metadata": {},
   "source": [
    "a) satt ef öll stök í fylkinu eru núl "
   ]
  },
  {
   "cell_type": "markdown",
   "metadata": {},
   "source": [
    "Spáin fyrir 2015 er 10 milljarðar smára sem er heldur hærra fjöldi smára í IBM Z13 sem hefur 4 milljarða.\n",
    "\n",
    "Af Wikipediu má sjá að eftir 2010 hefur hægt á þróuninni, https://en.wikipedia.org/wiki/Moore%27s_law\n",
    "\n",
    "c) Við sjáum að á tveimur árum er aukningin $1.4256 \\cdot 1.4256=2.03$, þ.e. fjöldi smára tvöfaldast á tveggja ára fresti."
   ]
  },
  {
   "cell_type": "markdown",
   "metadata": {},
   "source": [
    "3\\. [Aðhvarfsgreining með mörgum inntaksbreytum] Í Stanford Háskóla í Kaliforníu er boðið upp á námskeið sem heitir Matrix Methods og fjallar það um sama efni og REI201G. Stephen Boyd sem kennir námskeiðið er einmitt annar höfundar bókarinnar sem við notum. \n",
    "\n",
    "Í þessu dæmi er unnið með einkunnir af miðmisserisprófi í \"Matrix Methods\" árið 2017 þar sem 186 nemendur mættu í próf. Á prófinu voru 10 dæmi sem öll giltu 12 stig. Hér á að skoða hvort hægt sé að spara tíma við yfirferð á prófum með því að fara bara yfir hluta af dæmunum. (Þetta fyrirkomulag verður *ekki* tekið upp í REI201G!)\n",
    "\n",
    "Dæmatímakennarar fóru vandlega yfir öll dæmi á prófinu en ímyndum okkur að þeir hafi bara farið yfir fyrri helming prófsins, þ.e. dæmi 1 - 5 og notað aðhvarfsgreiningu til að spá fyrir um lokaeinkunn á hverju prófi. Fylki með einkunnum úr prófinu er að finna í skránni `midterm2017.csv` sem þið sækið með\n",
    "\n",
    "```python\n",
    "scores=np.loadtxt('midterm2017.csv',delimiter=',')\n",
    "```\n",
    "\n",
    "Raðir svara til nemenda og dálkar til prófdæma.\n",
    "\n",
    "a) Finnið meðaltal og staðalfrávik lokaeinkunnar á prófinu (tvær tölur). Finnið meðaltal og staðalfrávik einkunna fyrir einstök dæmi á prófinu (10+10=20 tölur).\n",
    "\n",
    "b) Hér er einföld leið til að spá fyrir um heildareinkunn á einstökum prófum: Leggið saman einkunn fyrir fyrstu 5 dæmin og tvöfaldið útkomuna. Hvaða RMS skekkja gefur þessi einfalda aðferð?\n",
    "\n",
    "c) Útbúið aðhvarfslíkan sem spáir fyrir um lokaeinkunn á einstökum prófum sem notar einkunnir fyrir dæmi 1 - 5 sem inntaksbreytur. Tilgreinið stuðla líkansins og túlkið stuttlega. Hvaða RMS skekkju gefur líkanið þitt?"
   ]
  },
  {
   "cell_type": "markdown",
   "metadata": {},
   "source": [
    "## Tímaverkefni"
   ]
  },
  {
   "cell_type": "markdown",
   "metadata": {
    "collapsed": true
   },
   "source": [
    "1\\. [Aðhvarfsgreining með einni inntaksbreytu] Þetta er upphitun fyrir dæmi 2 á heimaverkefni. Lesið leiðbeiningar fyrir dæmi 2 og svarið svo eftirfarandi spurningu. Lát\n",
    "$$\n",
    "\\theta=\\begin{bmatrix} \n",
    "\\theta_1 \\\\\n",
    "\\theta_2\n",
    "\\end{bmatrix}.\n",
    "$$\n",
    "Skrifið jöfnuna upp á forminu $y=A\\theta$ þar sem $y=\\log_{10}(N)$, þ.e. skrifið upp $A$ fylkið."
   ]
  },
  {
   "cell_type": "markdown",
   "metadata": {},
   "source": [
    "2\\. [Aðhvarfsgreining með mörgum inntaksbreytum] Er hægt að spá fyrir um greindarvísitölu út frá líkamsstærð og stærð á heila? Gögnin í skránni `brain_size.csv` eru fengin úr rannsókn á sambandi greindarvísitölu við líkams- og heilastærð í 38 einstaklingum:\n",
    "\n",
    "$y$ (úttaksbreyta): Greindarvísitala.\n",
    "\n",
    "$x_2$ (inntaksbreyta): Líkamsþyngd (eining: pund).\n",
    "\n",
    "$x_3$ (inntaksbreyta): Hæð (eining: tommur).\n",
    "\n",
    "$x_4$ (inntaksbreyta): Rúmmál heila (eining: fjöldi/10000) mælt með segulómun (MRI).\n",
    "\n",
    "Athugum líkan á forminu $\\hat{f}(x)=\\theta_1 + \\theta_2 x_2 + \\theta_3 x_3 + \\theta_4 x_4$.\n",
    "\n",
    "Grunnföllin eru þá $f_1(x)=1,~f_2(x)=f_3(x)=f_4(x)=x$ og fylkið $A$ verður\n",
    "\n",
    "$$\n",
    "A=\\begin{bmatrix}\n",
    "124 & 118 & 64.5 & 81.6932 \\\\\n",
    "150 & 143 & 73.3 & 103.8437 \\\\\n",
    "\\vdots & \\vdots & \\vdots & \\vdots \\\\\n",
    "89 & 179 & 75.5 & 93.5863\\\\\n",
    "\\end{bmatrix}\n",
    "$$\n",
    "\n",
    "Ákvarðið stikana með því að lágmarka $||A\\theta - y||^2$ og skýrið niðurstöður stuttlega."
   ]
  },
  {
   "cell_type": "code",
   "execution_count": null,
   "metadata": {
    "collapsed": true
   },
   "outputs": [],
   "source": []
  }
 ],
 "metadata": {
  "kernelspec": {
   "display_name": "Python 3",
   "language": "python",
   "name": "python3"
  },
  "language_info": {
   "codemirror_mode": {
    "name": "ipython",
    "version": 3
   },
   "file_extension": ".py",
   "mimetype": "text/x-python",
   "name": "python",
   "nbconvert_exporter": "python",
   "pygments_lexer": "ipython3",
   "version": "3.6.3"
  }
 },
 "nbformat": 4,
 "nbformat_minor": 2
}
