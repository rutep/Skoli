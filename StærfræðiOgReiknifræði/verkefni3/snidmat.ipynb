{
 "cells": [
  {
   "cell_type": "markdown",
   "metadata": {},
   "source": [
    "## REI201G Heimaverkefni 3\n",
    "\n",
    "### Skil: Föstudagur 16.2.2018\n",
    "\n",
    "**Nafn**: Pétur Daníel Ámundason\n",
    "\n",
    "**Tölvupóstfang (@hi.is): ** pda3@hi.is\n",
    "\n",
    "**Samstarfsaðilar:** (ef einhverjir)\n",
    "\n"
   ]
  },
  {
   "cell_type": "markdown",
   "metadata": {},
   "source": [
    "1. ### 5.2\n",
    "Skoða 400 hlutabréf yfir eitt ár(250 viðskiptadaga). Intern segir yfirmanni sínum að eitt af hlutabréfinu(goog) er hægt að sína fram á að það er línulegur hagnaður,sem inniheldur önnur hlutabréf sem eru óskild goog.\n",
    "Gerði intern mistök ?\n",
    "\n",
    "Interninn gæti hafið haft rétt fyrir sér ef hann hefur fundið að "
   ]
  },
  {
   "cell_type": "code",
   "execution_count": null,
   "metadata": {},
   "outputs": [],
   "source": []
  },
  {
   "cell_type": "code",
   "execution_count": null,
   "metadata": {},
   "outputs": [],
   "source": []
  },
  {
   "cell_type": "markdown",
   "metadata": {},
   "source": [
    "2."
   ]
  },
  {
   "cell_type": "markdown",
   "metadata": {},
   "source": [
    "3. "
   ]
  },
  {
   "cell_type": "markdown",
   "metadata": {},
   "source": [
    "4. "
   ]
  },
  {
   "cell_type": "markdown",
   "metadata": {},
   "source": [
    "5. "
   ]
  },
  {
   "cell_type": "code",
   "execution_count": null,
   "metadata": {
    "collapsed": true
   },
   "outputs": [],
   "source": []
  }
 ],
 "metadata": {
  "kernelspec": {
   "display_name": "Python 2",
   "language": "python",
   "name": "python2"
  },
  "language_info": {
   "codemirror_mode": {
    "name": "ipython",
    "version": 2
   },
   "file_extension": ".py",
   "mimetype": "text/x-python",
   "name": "python",
   "nbconvert_exporter": "python",
   "pygments_lexer": "ipython2",
   "version": "2.7.12"
  }
 },
 "nbformat": 4,
 "nbformat_minor": 2
}
