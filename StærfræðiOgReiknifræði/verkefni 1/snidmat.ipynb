{
 "cells": [
  {
   "cell_type": "markdown",
   "metadata": {},
   "source": [
    "## REI201G Heimaverkefni 1\n",
    "\n",
    "### Skil: Föstudagur 16.2.2018\n",
    "\n",
    "**Nafn**: Pétur Daníel Ámundason\n",
    "\n",
    "**Tölvupóstfang (@hi.is): pda3\n",
    "\n",
    "**Samstarfsaðilar:** (ef einhverjir)\n",
    "\n"
   ]
  },
  {
   "cell_type": "markdown",
   "metadata": {},
   "source": [
    "## 1."
   ]
  },
  {
   "cell_type": "code",
   "execution_count": 238,
   "metadata": {},
   "outputs": [
    {
     "name": "stdout",
     "output_type": "stream",
     "text": [
      "1:  [13 16 19 22 26]\n",
      "2:  [ 1  2  3  4  6  6  7  8  9 10]\n",
      "3:  a  + np.ones(4) gengur ekki upp stærð fylkjana passa ekki\n",
      "4:  [ 8  9 10 11 12]\n",
      "5:  -132\n"
     ]
    }
   ],
   "source": [
    "import numpy as np\n",
    "import math\n",
    "\n",
    "a = np.r_[1:5,6]\n",
    "b = np.arange(6,11)\n",
    "\n",
    "print(\"1: \", a+2*b)\n",
    "\n",
    "print(\"2: \", np.concatenate([a, b]))\n",
    "\n",
    "print(\"3: \", \"a  + np.ones(4) gengur ekki upp stærð fylkjana passa ekki\")\n",
    "\n",
    "print(\"4: \", 2+b)\n",
    "\n",
    "print(\"5: \", a[1-1] + b[2-1] - np.dot(a,b))"
   ]
  },
  {
   "cell_type": "markdown",
   "metadata": {},
   "source": [
    "## 2."
   ]
  },
  {
   "cell_type": "code",
   "execution_count": 239,
   "metadata": {},
   "outputs": [
    {
     "name": "stdout",
     "output_type": "stream",
     "text": [
      "[ 2 -3  5  2]\n"
     ]
    }
   ],
   "source": [
    "x=[0,2,-1,4,6]\n",
    "print(np.diff(x))"
   ]
  },
  {
   "cell_type": "markdown",
   "metadata": {},
   "source": [
    "## 3. "
   ]
  },
  {
   "cell_type": "code",
   "execution_count": 240,
   "metadata": {},
   "outputs": [
    {
     "name": "stdout",
     "output_type": "stream",
     "text": [
      "10.0\n"
     ]
    }
   ],
   "source": [
    "w=np.concatenate([np.ones(8)*(0.25/8), [0.35,0.40]])\n",
    "r=np.ones(10)*10\n",
    "print(np.dot(w,r))"
   ]
  },
  {
   "cell_type": "markdown",
   "metadata": {},
   "source": [
    "## 4. "
   ]
  },
  {
   "cell_type": "code",
   "execution_count": 241,
   "metadata": {},
   "outputs": [
    {
     "name": "stdout",
     "output_type": "stream",
     "text": [
      "68.8 ms ± 3.04 ms per loop (mean ± std. dev. of 7 runs, 10 loops each)\n"
     ]
    }
   ],
   "source": [
    "\n",
    "vx=np.random.randint(2, size=pow(10,8))\n",
    "vy=np.random.randint(2, size=pow(10,8))\n",
    "\n",
    "%timeit np.dot(vx,vy)\n"
   ]
  },
  {
   "cell_type": "markdown",
   "metadata": {},
   "source": [
    "## 5. "
   ]
  },
  {
   "cell_type": "code",
   "execution_count": 242,
   "metadata": {},
   "outputs": [
    {
     "name": "stdout",
     "output_type": "stream",
     "text": [
      "1:  0.853298021849\n",
      "2:  0.521220785257\n",
      "3:  2.1702742502\n"
     ]
    }
   ],
   "source": [
    "x=np.random.random(10)\n",
    "a=np.array(np.zeros(10))\n",
    "a[3]=1\n",
    "print(\"1: \", np.dot(x,a))\n",
    "\n",
    "x=np.random.random(3)\n",
    "a=np.array([0.3, 0.4 ,0.3])\n",
    "print(\"2: \", np.dot(x,a))\n",
    "\n",
    "x=np.random.random(11)\n",
    "a=np.array(np.ones(5))\n",
    "indices=np.arange(3,8)\n",
    "print(\"3: \", np.dot(a,np.take(x,indices)))\n"
   ]
  }
 ],
 "metadata": {
  "kernelspec": {
   "display_name": "Python 3",
   "language": "python",
   "name": "python3"
  },
  "language_info": {
   "codemirror_mode": {
    "name": "ipython",
    "version": 3
   },
   "file_extension": ".py",
   "mimetype": "text/x-python",
   "name": "python",
   "nbconvert_exporter": "python",
   "pygments_lexer": "ipython3",
   "version": "3.6.3"
  }
 },
 "nbformat": 4,
 "nbformat_minor": 2
}
