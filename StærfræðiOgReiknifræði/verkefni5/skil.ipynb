{
 "cells": [
  {
   "cell_type": "markdown",
   "metadata": {},
   "source": [
    "# Verkefni 5\n",
    "### Pétur Daníel Ámundason\n",
    "### pda3@hi.is"
   ]
  },
  {
   "cell_type": "markdown",
   "metadata": {},
   "source": []
  },
  {
   "cell_type": "code",
   "execution_count": 15,
   "metadata": {},
   "outputs": [
    {
     "name": "stdout",
     "output_type": "stream",
     "text": [
      "[[0 1 0 0 1]\n",
      " [1 0 1 0 0]\n",
      " [0 0 1 1 1]\n",
      " [1 0 0 0 0]\n",
      " [0 0 0 1 0]]\n",
      "[(array([0, 1, 0, 0, 1]), array([0, 1, 0, 0, 1])), (array([0, 1, 0, 0, 1]), array([1, 0, 1, 0, 0])), (array([0, 1, 0, 0, 1]), array([0, 1, 0, 0, 1])), (array([0, 1, 0, 0, 1]), array([0, 1, 0, 0, 1])), (array([0, 1, 0, 0, 1]), array([1, 0, 1, 0, 0])), (array([1, 0, 1, 0, 0]), array([1, 0, 1, 0, 0])), (array([1, 0, 1, 0, 0]), array([0, 1, 0, 0, 1])), (array([1, 0, 1, 0, 0]), array([1, 0, 1, 0, 0])), (array([1, 0, 1, 0, 0]), array([0, 1, 0, 0, 1])), (array([1, 0, 1, 0, 0]), array([0, 1, 0, 0, 1])), (array([0, 0, 1, 1, 1]), array([0, 1, 0, 0, 1])), (array([0, 0, 1, 1, 1]), array([0, 1, 0, 0, 1])), (array([0, 0, 1, 1, 1]), array([1, 0, 1, 0, 0])), (array([0, 0, 1, 1, 1]), array([1, 0, 1, 0, 0])), (array([0, 0, 1, 1, 1]), array([1, 0, 1, 0, 0])), (array([1, 0, 0, 0, 0]), array([1, 0, 1, 0, 0])), (array([1, 0, 0, 0, 0]), array([0, 1, 0, 0, 1])), (array([1, 0, 0, 0, 0]), array([0, 1, 0, 0, 1])), (array([1, 0, 0, 0, 0]), array([0, 1, 0, 0, 1])), (array([1, 0, 0, 0, 0]), array([0, 1, 0, 0, 1])), (array([0, 0, 0, 1, 0]), array([0, 1, 0, 0, 1])), (array([0, 0, 0, 1, 0]), array([0, 1, 0, 0, 1])), (array([0, 0, 0, 1, 0]), array([0, 1, 0, 0, 1])), (array([0, 0, 0, 1, 0]), array([1, 0, 1, 0, 0])), (array([0, 0, 0, 1, 0]), array([0, 1, 0, 0, 1]))]\n"
     ]
    }
   ],
   "source": [
    "import numpy as np\n",
    "A = np.array([[0,1,0,0,1],[1,0,1,0,0],[0,0,1,1,1],[1,0,0,0,0],[0,0,0,1,0]])\n",
    "print(A)\n",
    "\n",
    "def generate_edges(graph):\n",
    "    edges = []\n",
    "    for node in graph:\n",
    "        for neighbour in graph[node]:\n",
    "            edges.append((node, neighbour))\n",
    "\n",
    "    return edges\n",
    "\n",
    "print(generate_edges(A))\n"
   ]
  },
  {
   "cell_type": "code",
   "execution_count": null,
   "metadata": {
    "collapsed": true
   },
   "outputs": [],
   "source": []
  },
  {
   "cell_type": "code",
   "execution_count": null,
   "metadata": {
    "collapsed": true
   },
   "outputs": [],
   "source": []
  },
  {
   "cell_type": "code",
   "execution_count": 13,
   "metadata": {},
   "outputs": [
    {
     "name": "stdout",
     "output_type": "stream",
     "text": [
      "[[1 0 1 1 0]\n",
      " [0 1 1 1 2]\n",
      " [1 0 1 2 1]\n",
      " [0 1 0 0 1]\n",
      " [1 0 0 0 0]]\n"
     ]
    }
   ],
   "source": []
  },
  {
   "cell_type": "code",
   "execution_count": null,
   "metadata": {
    "collapsed": true
   },
   "outputs": [],
   "source": []
  },
  {
   "cell_type": "code",
   "execution_count": null,
   "metadata": {
    "collapsed": true
   },
   "outputs": [],
   "source": []
  },
  {
   "cell_type": "code",
   "execution_count": null,
   "metadata": {
    "collapsed": true
   },
   "outputs": [],
   "source": []
  },
  {
   "cell_type": "code",
   "execution_count": null,
   "metadata": {
    "collapsed": true
   },
   "outputs": [],
   "source": []
  },
  {
   "cell_type": "code",
   "execution_count": null,
   "metadata": {
    "collapsed": true
   },
   "outputs": [],
   "source": []
  },
  {
   "cell_type": "code",
   "execution_count": null,
   "metadata": {
    "collapsed": true
   },
   "outputs": [],
   "source": []
  },
  {
   "cell_type": "code",
   "execution_count": null,
   "metadata": {
    "collapsed": true
   },
   "outputs": [],
   "source": []
  },
  {
   "cell_type": "code",
   "execution_count": null,
   "metadata": {
    "collapsed": true
   },
   "outputs": [],
   "source": []
  },
  {
   "cell_type": "code",
   "execution_count": null,
   "metadata": {
    "collapsed": true
   },
   "outputs": [],
   "source": []
  },
  {
   "cell_type": "code",
   "execution_count": null,
   "metadata": {
    "collapsed": true
   },
   "outputs": [],
   "source": []
  },
  {
   "cell_type": "code",
   "execution_count": null,
   "metadata": {
    "collapsed": true
   },
   "outputs": [],
   "source": []
  },
  {
   "cell_type": "code",
   "execution_count": null,
   "metadata": {
    "collapsed": true
   },
   "outputs": [],
   "source": []
  },
  {
   "cell_type": "code",
   "execution_count": null,
   "metadata": {
    "collapsed": true
   },
   "outputs": [],
   "source": []
  }
 ],
 "metadata": {
  "kernelspec": {
   "display_name": "Python 3",
   "language": "python",
   "name": "python3"
  },
  "language_info": {
   "codemirror_mode": {
    "name": "ipython",
    "version": 3
   },
   "file_extension": ".py",
   "mimetype": "text/x-python",
   "name": "python",
   "nbconvert_exporter": "python",
   "pygments_lexer": "ipython3",
   "version": "3.6.3"
  }
 },
 "nbformat": 4,
 "nbformat_minor": 2
}
