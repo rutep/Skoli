{
 "cells": [
  {
   "cell_type": "markdown",
   "metadata": {},
   "source": [
    "# Vika 8\n",
    "\n",
    "Dagsetning: 5. apríl"
   ]
  },
  {
   "cell_type": "markdown",
   "metadata": {},
   "source": [
    "## Sýnidæmi úr bók bls. 253\n",
    "\n",
    "Olíunotkun á heimsvísu milli 1980 og 2013."
   ]
  },
  {
   "cell_type": "code",
   "execution_count": null,
   "metadata": {},
   "outputs": [],
   "source": [
    "import numpy as np\n",
    "import matplotlib.pyplot as plt\n",
    "\n",
    "# Gögn lesin úr skrá\n",
    "data = np.genfromtxt('oliunotkun.csv', skip_header=True, delimiter='\\t')\n",
    "x = data[:,0] - 1980\n",
    "y = data[:,1]/1000 # Milljónir tunna\n",
    "\n",
    "# Finna líkan á forminu f(t)=θ1 + θ2*x\n",
    "m = x.shape[0]\n",
    "A = np.c_[np.ones(m), x]\n",
    "theta,res,rank,_ = np.linalg.lstsq(A, y, rcond=False)\n",
    "\n",
    "# Teikna gögn ásamt bestu línu\n",
    "plt.scatter(x + 1980, y)\n",
    "yp = np.dot(np.c_[np.ones(m), x], theta) # Reiknum spágildi fyrir punktana í x\n",
    "plt.plot(x + 1980, yp, 'r-')\n",
    "plt.xlabel('Ár')\n",
    "plt.ylabel('Olíunotkun (milljónir tunna á dag)')\n",
    "plt.title('Olínotkun í heiminum á árunum 1980 - 2013')\n",
    "plt.show()\n",
    "\n",
    "# Drögum línuna frá gögnunum til að sjá sveiflur betur\n",
    "plt.plot(x + 1980, y - yp, 'bo-')\n",
    "plt.xlabel('Ár')\n",
    "plt.ylabel('Olíunotkun (milljónir tunna á dag)')\n",
    "plt.title('Olínotkun eftir að línuleg leitni hefur verið fjarlægð')\n",
    "plt.show()"
   ]
  },
  {
   "cell_type": "markdown",
   "metadata": {},
   "source": [
    "## Aðhvarfsgreining með margliðum\n",
    "\n",
    "Notum tilbúin gögn að þessu sinni. Við þekkjum því undirliggjandi fallið $f$ og við ætlum að sjá hversu vel okkur gengur að nálga það í framhaldinu. Gildin á $x$ eru slembin og $y_i=0.5 x_i^4 - 0.4x_i^3 - 4x_i^2 + x_i + 2 + \\epsilon_i$ þar sem $\\epsilon_i$ er (normaldreift) \"suð\". "
   ]
  },
  {
   "cell_type": "code",
   "execution_count": null,
   "metadata": {
    "collapsed": true
   },
   "outputs": [],
   "source": [
    "def tilbuin_gogn(N):\n",
    "    # Tilbúið gagnasafn\n",
    "    x = np.random.uniform(-3,3,N)\n",
    "    y = 0.5*x**4 -0.4*x**3 - 4*x**2+x + 2 + np.random.normal(0.0,0.5,N) # 4. stigs margliða\n",
    "    return x,y"
   ]
  },
  {
   "cell_type": "code",
   "execution_count": null,
   "metadata": {},
   "outputs": [],
   "source": [
    "N=20\n",
    "x,y = tilbuin_gogn(N)\n",
    "\n",
    "for k in [1,2,4,8,16]:\n",
    "    pz = np.polyfit(x,y,k) # finnum k-ta stigs margliðu\n",
    "    p = np.poly1d(pz) # Klasi sem einfaldar umstang með margliður\n",
    "    xp = np.linspace(min(x),max(x),100)\n",
    "    plt.plot(x,y,'.',xp,p(xp),'-') # plottum gögn vs margliðu\n",
    "    print(p)\n",
    "    plt.show()"
   ]
  },
  {
   "cell_type": "markdown",
   "metadata": {},
   "source": [
    "Þegar gráða margliðu hækkar þá lækkar ferviksskekkja en það merkir ekki endilega að líkanið spái réttilega fyrir um óséð gögn, þ.e. gögn sem voru ekki notuð til að meta stika líkansins. Setjum til hliðar hluta gagna (\"prófunargögn\"), t.d. 20% og notum RMS skekkju á þau gögn sem mælikvarða á gæði líkans."
   ]
  },
  {
   "cell_type": "code",
   "execution_count": null,
   "metadata": {
    "collapsed": true
   },
   "outputs": [],
   "source": [
    "# Setja \n",
    "ntrain=int(0.2*N)\n",
    "x1 = x[:-ntrain] # Þjálfunargögn\n",
    "y1 = y[:-ntrain]\n",
    "x2 = x[-ntrain:] # Prófunargögn\n",
    "y2 = y[-ntrain:]\n",
    "\n",
    "def rms(u):\n",
    "    return np.linalg.norm(u)/np.sqrt(len(u))"
   ]
  },
  {
   "cell_type": "code",
   "execution_count": null,
   "metadata": {
    "collapsed": true
   },
   "outputs": [],
   "source": [
    "test_rms = []\n",
    "train_rms = []\n",
    "for k in range(15):\n",
    "    pz = np.polyfit(x1,y1,k) # finnum k-ta stigs margliðu\n",
    "    p = np.poly1d(pz)\n",
    "    train_rms.append(rms(y1 - p(x1))) # RMS skekkja þjálfunargagna\n",
    "    test_rms.append(rms(y2 - p(x2))) # RMS skekkja prófunargagna"
   ]
  },
  {
   "cell_type": "code",
   "execution_count": null,
   "metadata": {},
   "outputs": [],
   "source": [
    "train_rms"
   ]
  },
  {
   "cell_type": "code",
   "execution_count": null,
   "metadata": {},
   "outputs": [],
   "source": [
    "test_rms"
   ]
  },
  {
   "cell_type": "code",
   "execution_count": null,
   "metadata": {},
   "outputs": [],
   "source": [
    "plt.plot(range(len(test_rms)), train_rms,'-',color='blue',label='þjálfunargögn')\n",
    "plt.plot(range(len(train_rms)), np.clip(test_rms,0,4),'-',color='red', label='prófunargögn')\n",
    "plt.legend()\n",
    "plt.show()"
   ]
  },
  {
   "cell_type": "markdown",
   "metadata": {},
   "source": [
    "Af grafinu sést að margliða með gráðu á bilinu 4 til 8 gefur lægsta spáskekkju (getur breyst lítillega ef kóðinn er keyrður aftur því gögn eru slembin)."
   ]
  },
  {
   "cell_type": "markdown",
   "metadata": {},
   "source": [
    "## Cross-validation bls. 264-266\n",
    "\n",
    "Sýnidæmi úr bók um aðhvarfsgreiningarlíkan fyrir húsnæðisverð (sjá líka bls. 39). Spálíkanið er $\\hat{y} = x^T \\beta + v = \\beta_1 x_1 + \\beta_2 x_2 + v$.\n",
    "\n",
    "<img src=\"vika8regression.png\" width=\"400\" height=\"400\" />"
   ]
  },
  {
   "cell_type": "markdown",
   "metadata": {},
   "source": [
    "## Minnstu kvaðrata flokkari\n",
    "\n",
    "Sýnidæmi bls. 289 - 290 (Iris gagnasafnið)\n",
    "\n",
    "<img src=\"vika8iris.png\" width=\"400\" height=\"400\" />"
   ]
  },
  {
   "cell_type": "code",
   "execution_count": null,
   "metadata": {},
   "outputs": [],
   "source": [
    "data=np.genfromtxt('iris.csv',skip_header=True)\n",
    "\n",
    "X=data[:,0:3] # Sepal (bikarblað) length, Sepal width, Petal (krónublað) length, Petal Width\n",
    "y=data[:,-1] # Flokkar Setosa=1, Versicolor=2, Virginica=3\n",
    "\n",
    "# Breyta í 2ja flokka verkefni, Virginica eða ekki\n",
    "y[y==3]=-1\n",
    "y[y==2]=1\n",
    "\n",
    "N = X.shape[0]\n",
    "A = np.c_[np.ones(N), X]\n",
    "theta,res,rank,_ = np.linalg.lstsq(A, y, rcond=False)\n",
    "print(\"theta:\", theta) # Ekki sömu gildi og í bók\n",
    "\n",
    "# Spá\n",
    "ypred=np.sign(np.dot(A,theta))\n",
    "\n",
    "print(np.sum(y != ypred)/N)"
   ]
  },
  {
   "cell_type": "markdown",
   "metadata": {},
   "source": [
    "# Flokkun á handskrifuðum stöfum (MNIST gagnasafnið) bls. 302 - 304\n",
    "\n",
    "<img src=\"vika8mnist.png\" width=\"600\" height=\"600\" />"
   ]
  },
  {
   "cell_type": "markdown",
   "metadata": {},
   "source": [
    "U.þ.b. 14% skekkja á prófunar- og þjálfunargögn þ.a. nákvæmni á óséð gögn er líklega svipuð.\n",
    "\n",
    "Skekkja í flokkun hjá mönnum er u.þ.b. 2%.\n",
    "\n",
    "Bestu flokkarar ná minna en 1% skekkju!"
   ]
  },
  {
   "cell_type": "code",
   "execution_count": null,
   "metadata": {
    "collapsed": true
   },
   "outputs": [],
   "source": []
  }
 ],
 "metadata": {
  "kernelspec": {
   "display_name": "Python 2",
   "language": "python",
   "name": "python2"
  },
  "language_info": {
   "codemirror_mode": {
    "name": "ipython",
    "version": 2
   },
   "file_extension": ".py",
   "mimetype": "text/x-python",
   "name": "python",
   "nbconvert_exporter": "python",
   "pygments_lexer": "ipython2",
   "version": "2.7.12"
  }
 },
 "nbformat": 4,
 "nbformat_minor": 2
}
