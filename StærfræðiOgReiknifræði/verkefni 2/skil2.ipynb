{
 "cells": [
  {
   "cell_type": "markdown",
   "metadata": {},
   "source": [
    "## REI201G Heimaverkefni 2\n",
    "\n",
    "**Nafn**: Pétur Daníel Ámundason\n",
    "\n",
    "**Tölvupóstfang (@hi.is): pda3"
   ]
  },
  {
   "cell_type": "code",
   "execution_count": null,
   "metadata": {},
   "outputs": [],
   "source": []
  },
  {
   "cell_type": "markdown",
   "metadata": {},
   "source": [
    "## 1."
   ]
  },
  {
   "cell_type": "code",
   "execution_count": 42,
   "metadata": {},
   "outputs": [
    {
     "name": "stdout",
     "output_type": "stream",
     "text": [
      "('a) ', 3.0)\n",
      "b) Hér sést á mynd 1 að fylkið er línulegt og eftir að hafa reiknað út stak n+1 og set aftast í fylkið þá er myndinn \n",
      " en línuleg \n"
     ]
    },
    {
     "data": {
      "text/plain": [
       "<matplotlib.figure.Figure at 0x7f9064086190>"
      ]
     },
     "metadata": {},
     "output_type": "display_data"
    },
    {
     "data": {
      "text/plain": [
       "<matplotlib.figure.Figure at 0x7f904e589f90>"
      ]
     },
     "metadata": {},
     "output_type": "display_data"
    }
   ],
   "source": [
    "import numpy as np\n",
    "import math\n",
    "import matplotlib.pyplot as plt\n",
    "\n",
    "def f(x):\n",
    "    return np.dot(x[1::2],np.ones(len(x[1::2]))*0.5)\n",
    "\n",
    "x = np.array([1,2,3,4]) \n",
    "print(\"a) \", f(x))\n",
    "\n",
    "def isItlinear(x):\n",
    "    plt.plot(x)\n",
    "    plt.show()\n",
    "    return\n",
    "\n",
    "y = np.array([1,2,3])\n",
    "\n",
    "print(\"b) Hér sést á mynd 1 að fylkið er línulegt og eftir að hafa reiknað út stak n+1 og set aftast í fylkið þá er myndinn \\n en línuleg \")\n",
    "isItlinear(y)\n",
    "isItlinear(np.concatenate([y,np.array([y[len(y)-1] + (y[len(y)-1] - y[len(y)-2])])]))\n",
    "\n"
   ]
  },
  {
   "cell_type": "code",
   "execution_count": null,
   "metadata": {},
   "outputs": [],
   "source": []
  },
  {
   "cell_type": "code",
   "execution_count": null,
   "metadata": {},
   "outputs": [],
   "source": []
  },
  {
   "cell_type": "code",
   "execution_count": null,
   "metadata": {},
   "outputs": [],
   "source": []
  },
  {
   "cell_type": "markdown",
   "metadata": {},
   "source": [
    "## 2."
   ]
  },
  {
   "cell_type": "code",
   "execution_count": 43,
   "metadata": {},
   "outputs": [
    {
     "name": "stdout",
     "output_type": "stream",
     "text": [
      "('a) ', False, ' \\xc3\\x9eannig a\\xc3\\xb0 gefna fall er ekki l\\xc3\\xadnulegt')\n",
      "('b) ', 0.5)\n"
     ]
    }
   ],
   "source": [
    "a = 1\n",
    "b = 1\n",
    "x = np.array([1,2,3])\n",
    "y = np.array([2,3,4])\n",
    "\n",
    "def f(x):\n",
    "    lausn = 0\n",
    "    x[1] = x[1] * -1 \n",
    "    for i in xrange(0,len(x)):\n",
    "        for j in xrange(0,len(x)):\n",
    "            lausn += x[i] * x[j]\n",
    "    return lausn\n",
    "\n",
    "\n",
    "hagri = f(a*x + b*y)\n",
    "vinstri = a*f(x) + b*f(y)\n",
    "print(\"a) \", hagri == vinstri, \" Þannig að gefna fall er ekki línulegt\")\n",
    "\n",
    "print(\"b) \", np.median(np.array([-1.2,1,3,0.5,-2]))) \n"
   ]
  },
  {
   "cell_type": "markdown",
   "metadata": {},
   "source": [
    "3. "
   ]
  },
  {
   "cell_type": "code",
   "execution_count": 84,
   "metadata": {
    "scrolled": true
   },
   "outputs": [
    {
     "name": "stdout",
     "output_type": "stream",
     "text": [
      "('a) ', 4.1231056256176606)\n",
      "('b) ', 0.81649658092772603)\n",
      "('c) ', 0.14285714285714285)\n"
     ]
    }
   ],
   "source": [
    "def a(x):\n",
    "    # print(math.sqrt(np.dot(x*x,x*x)))\n",
    "    # jafngild segð fyrir ofan nema neðri gefur betri lausn\n",
    "    return np.linalg.norm(x)\n",
    "\n",
    "print(\"a) \", a(np.array([1,2]) * np.array([1,2])))\n",
    "\n",
    "def b(x):\n",
    "    return np.std(x)\n",
    "\n",
    "print(\"b) \", b(np.array([1,2,3])))\n",
    "\n",
    "def c(x,y):\n",
    "    # xmerkt = x - avg(x)1\n",
    "    return np.dot(x-np.average(x),y-np.average(y))/np.dot(a(x),a(y))\n",
    "\n",
    "print (\"c) \" ,c(np.array([1,2,3]),np.array([1,2,3])))\n"
   ]
  },
  {
   "cell_type": "code",
   "execution_count": null,
   "metadata": {},
   "outputs": [],
   "source": []
  },
  {
   "cell_type": "markdown",
   "metadata": {},
   "source": [
    "4. "
   ]
  },
  {
   "cell_type": "code",
   "execution_count": 90,
   "metadata": {},
   "outputs": [
    {
     "name": "stdout",
     "output_type": "stream",
     "text": [
      "[[  4.    3.    5. ]\n",
      " [  0.4  10.   50. ]\n",
      " [  1.    4.   10. ]]\n",
      "('||a-x1||= \\xc3\\xbea\\xc3\\xb0 er sti\\xc3\\xb0st \\xc3\\xa1 milli a og x1', 3.1622776601683795)\n",
      "('||a-x2||=', 46.533428844219081)\n",
      "('||a-x3||=', 6.0827625302982193)\n"
     ]
    }
   ],
   "source": [
    "array = np.array([[4,3,5],[0.4,10,50],[1,4,10]])\n",
    "print(array)\n",
    "a = np.array([1,3,4])\n",
    "print(\"||a-x1||= það er stiðst á milli a og x1\", np.linalg.norm(a-array[0]))\n",
    "print(\"||a-x2||=\", np.linalg.norm(a-array[1])) \n",
    "print(\"||a-x3||=\", np.linalg.norm(a-array[2]))"
   ]
  },
  {
   "cell_type": "code",
   "execution_count": null,
   "metadata": {},
   "outputs": [],
   "source": []
  },
  {
   "cell_type": "code",
   "execution_count": null,
   "metadata": {},
   "outputs": [],
   "source": []
  },
  {
   "cell_type": "code",
   "execution_count": null,
   "metadata": {},
   "outputs": [],
   "source": []
  },
  {
   "cell_type": "code",
   "execution_count": null,
   "metadata": {},
   "outputs": [],
   "source": []
  },
  {
   "cell_type": "code",
   "execution_count": null,
   "metadata": {},
   "outputs": [],
   "source": []
  },
  {
   "cell_type": "code",
   "execution_count": null,
   "metadata": {},
   "outputs": [],
   "source": []
  },
  {
   "cell_type": "markdown",
   "metadata": {},
   "source": [
    "5. "
   ]
  },
  {
   "cell_type": "code",
   "execution_count": null,
   "metadata": {},
   "outputs": [],
   "source": []
  }
 ],
 "metadata": {
  "kernelspec": {
   "display_name": "Python 2",
   "language": "python",
   "name": "python2"
  },
  "language_info": {
   "codemirror_mode": {
    "name": "ipython",
    "version": 2
   },
   "file_extension": ".py",
   "mimetype": "text/x-python",
   "name": "python",
   "nbconvert_exporter": "python",
   "pygments_lexer": "ipython2",
   "version": "2.7.12"
  }
 },
 "nbformat": 4,
 "nbformat_minor": 2
}
