{
 "cells": [
  {
   "cell_type": "markdown",
   "metadata": {},
   "source": [
    "# Önnur vika. Viðbót um vigra og fylki í Numpy"
   ]
  },
  {
   "cell_type": "markdown",
   "metadata": {},
   "source": [
    "## \"slicing\" á vigrum\n",
    "Sömu reglur gilda fyrir vigra og fyrir lista og strengi\n",
    "\n",
    "- `a[0]`  - fyrsta stakið\n",
    "- `a[:]` - allur vigurinn\n",
    "- `a[:i]` - i fyrstu stök\n",
    "- `a[i:]` - allt nema i fyrstu\n",
    "- `a[i:j]` - frá i til j-1, j ekki með\n",
    "- `a[i:j:k]` - k-ta hvert stak frá i og minna en j\n",
    "- `a[-1]` - síðasta stak"
   ]
  },
  {
   "cell_type": "code",
   "execution_count": 2,
   "metadata": {},
   "outputs": [
    {
     "name": "stdout",
     "output_type": "stream",
     "text": [
      "5.38516480713\n",
      "('||u-v||=', 8.36779540858881)\n",
      "('||u-w||=', 0.3872983346207417)\n",
      "('||v-w||=', 8.5328775919967352)\n"
     ]
    }
   ],
   "source": [
    "import numpy as np\n",
    "\n",
    "# Innbygt Nympy fall notað til að reikna norm\n",
    "x=np.array([2,5])\n",
    "print(np.linalg.norm(x))\n",
    "\n",
    "u=np.array([1.8, 2.0,-3.7, 4.7])\n",
    "v=np.array([0.6, 2.1, 1.9,-1.4])\n",
    "w=np.array([2.0, 1.9,-4.0, 4.6])\n",
    "\n",
    "print(\"||u-v||=\", np.linalg.norm(u-v))\n",
    "print(\"||u-w||=\", np.linalg.norm(u-w)) # u og v eru \"nálægt\" hvor öðrum\n",
    "print(\"||v-w||=\", np.linalg.norm(v-w))"
   ]
  },
  {
   "cell_type": "code",
   "execution_count": 3,
   "metadata": {},
   "outputs": [
    {
     "name": "stdout",
     "output_type": "stream",
     "text": [
      "[[1 2 3 4]\n",
      " [5 6 7 8]]\n",
      "<type 'numpy.ndarray'>\n"
     ]
    }
   ],
   "source": [
    "# Fylki\n",
    "X = np.array([[1,2,3,4],[5,6,7,8]]) # Tvær línur, 4 stök í hverri\n",
    "print(X)\n",
    "print(type(X))"
   ]
  },
  {
   "cell_type": "markdown",
   "metadata": {
    "collapsed": true
   },
   "source": [
    "Hver `ndarray` hlutur hefur nokkra eiginleika\n",
    "\n",
    "- `ndarray.ndim`\n",
    "Fjöldi vídda, 1 fyrir vigra, 2 fyrir fylki\n",
    "- `ndarray.shape`\n",
    "Stærðin á fylkinu sem `tuple`, fyrsta stak fyrir fyrstu vídd o.s.frv\n",
    "Lengdin á svarinu er `ndim`.\n",
    "- `ndarray.size`\n",
    "Fjöldi staka, jafnt margfeldi allra staka í `shape`\n",
    "- `ndarray.dtype`\n",
    "Tagið á gildunum"
   ]
  },
  {
   "cell_type": "code",
   "execution_count": 4,
   "metadata": {},
   "outputs": [
    {
     "name": "stdout",
     "output_type": "stream",
     "text": [
      "2\n",
      "(2, 4)\n",
      "8\n",
      "int64\n"
     ]
    }
   ],
   "source": [
    "print(X.ndim)\n",
    "print(X.shape)\n",
    "print(X.size)\n",
    "print(X.dtype)"
   ]
  },
  {
   "cell_type": "code",
   "execution_count": 5,
   "metadata": {},
   "outputs": [
    {
     "ename": "IndexError",
     "evalue": "too many indices for array",
     "output_type": "error",
     "traceback": [
      "\u001b[0;31m---------------------------------------------------------------------------\u001b[0m",
      "\u001b[0;31mIndexError\u001b[0m                                Traceback (most recent call last)",
      "\u001b[0;32m<ipython-input-5-ab2f2c36ae1e>\u001b[0m in \u001b[0;36m<module>\u001b[0;34m()\u001b[0m\n\u001b[1;32m      1\u001b[0m \u001b[0;31m# Vísun í línur og dálka\u001b[0m\u001b[0;34m\u001b[0m\u001b[0;34m\u001b[0m\u001b[0m\n\u001b[0;32m----> 2\u001b[0;31m \u001b[0;32mprint\u001b[0m\u001b[0;34m(\u001b[0m\u001b[0;34m\"Stak (1,3)=\"\u001b[0m\u001b[0;34m,\u001b[0m \u001b[0mx\u001b[0m\u001b[0;34m[\u001b[0m\u001b[0;36m1\u001b[0m\u001b[0;34m,\u001b[0m\u001b[0;36m3\u001b[0m\u001b[0;34m]\u001b[0m\u001b[0;34m)\u001b[0m\u001b[0;34m\u001b[0m\u001b[0m\n\u001b[0m\u001b[1;32m      3\u001b[0m \u001b[0;32mprint\u001b[0m\u001b[0;34m(\u001b[0m\u001b[0;34m\"Lína 0: \"\u001b[0m\u001b[0;34m,\u001b[0m \u001b[0mx\u001b[0m\u001b[0;34m[\u001b[0m\u001b[0;36m0\u001b[0m\u001b[0;34m,\u001b[0m\u001b[0;34m:\u001b[0m\u001b[0;34m]\u001b[0m\u001b[0;34m)\u001b[0m\u001b[0;34m\u001b[0m\u001b[0m\n\u001b[1;32m      4\u001b[0m \u001b[0;32mprint\u001b[0m\u001b[0;34m(\u001b[0m\u001b[0;34m\"Dálkur 2: \"\u001b[0m\u001b[0;34m,\u001b[0m \u001b[0mx\u001b[0m\u001b[0;34m[\u001b[0m\u001b[0;34m:\u001b[0m\u001b[0;34m,\u001b[0m\u001b[0;36m2\u001b[0m\u001b[0;34m]\u001b[0m\u001b[0;34m)\u001b[0m\u001b[0;34m\u001b[0m\u001b[0m\n\u001b[1;32m      5\u001b[0m \u001b[0;31m#print(\"Fjarlægð milli vigra í línu 0 og 1\", np.norm(x[0,:] - x[1,:]))\u001b[0m\u001b[0;34m\u001b[0m\u001b[0;34m\u001b[0m\u001b[0m\n",
      "\u001b[0;31mIndexError\u001b[0m: too many indices for array"
     ]
    }
   ],
   "source": [
    "# Vísun í línur og dálka\n",
    "print(\"Stak (1,3)=\", x[1,3])\n",
    "print(\"Lína 0: \", x[0,:])\n",
    "print(\"Dálkur 2: \", x[:,2])\n",
    "#print(\"Fjarlægð milli vigra í línu 0 og 1\", np.norm(x[0,:] - x[1,:]))"
   ]
  },
  {
   "cell_type": "code",
   "execution_count": null,
   "metadata": {},
   "outputs": [],
   "source": []
  },
  {
   "cell_type": "code",
   "execution_count": null,
   "metadata": {},
   "outputs": [],
   "source": []
  },
  {
   "cell_type": "code",
   "execution_count": null,
   "metadata": {},
   "outputs": [],
   "source": []
  }
 ],
 "metadata": {
  "kernelspec": {
   "display_name": "Python 2",
   "language": "python",
   "name": "python2"
  },
  "language_info": {
   "codemirror_mode": {
    "name": "ipython",
    "version": 2
   },
   "file_extension": ".py",
   "mimetype": "text/x-python",
   "name": "python",
   "nbconvert_exporter": "python",
   "pygments_lexer": "ipython2",
   "version": "2.7.12"
  }
 },
 "nbformat": 4,
 "nbformat_minor": 2
}
